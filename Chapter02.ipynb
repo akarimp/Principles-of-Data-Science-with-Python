{
 "cells": [
  {
   "cell_type": "markdown",
   "id": "0b5e37e4",
   "metadata": {},
   "source": [
    "# Chapter 2 Introduction to Python Programming\n",
    "\n",
    "In this chapter, the basics of programming with the Python language are\n",
    "described. First, Python syntax style is explained. Then, it is\n",
    "described how to import and work with Python libraries and functions.\n",
    "After that, mathematical, comparison, Boolean and bitwise operators are\n",
    "presented. Next, integer, floating point, and complex numbers are\n",
    "described. Then, it is explained how to work with strings. It follows by\n",
    "descriptions of the range() function. After that, the if, for and while\n",
    "statements are explained. Next, it is described how to define a\n",
    "function. Then, it is demonstrated how to use an underscore. At the end,\n",
    "it is explained how to work with files and directories.\n",
    "\n",
    "## 2.1 Python Syntax Style\n",
    "\n",
    "Python syntax follows sets of styles and layouts described by the Python\n",
    "Software Foundation in a document called “PEP 8 -- Style Guide for\n",
    "Python Code”. Probably, the most distinctive principle of the Python\n",
    "code layout is its use of indentation. In simple words, indentation is a\n",
    "blank space at the start of each line in a code, which means to start a\n",
    "new line of code further in the left compared with a previous line. In\n",
    "Python, an indentation is used to mark and define each block of code\n",
    "from other blocks in rest of the code. Every time a new block of code is\n",
    "about to start, it should indent to the left (its lines start further in\n",
    "left) compared with lines in a previous block. Then, all the lines in\n",
    "that block should line up vertically in a way that they all have the\n",
    "same distance to the left at the start.\n",
    "\n",
    "The PEP 8 document suggests that each line of code in Python being\n",
    "limited to 79 characters, except for docstrings or comments, which in\n",
    "those cases it suggests limiting each line to 72 characters. In a case\n",
    "that a line of code becomes longer than a suggested length, it can be\n",
    "split into two or more lines by using a backslash, \\\\. In Python, a\n",
    "backslash is used for a line continuation (a line break). In general,\n",
    "any line of Python code (regardless of its length) can be split into two\n",
    "or more lines by using a backslash at the end of each line. Here is an\n",
    "example of how to use a backslash for a line continuation. In this\n",
    "example, integers from 1 to 10 are added together."
   ]
  },
  {
   "cell_type": "code",
   "execution_count": null,
   "id": "37ff6aec",
   "metadata": {},
   "outputs": [],
   "source": [
    "a=1+2+3+4+5 \\\n",
    "    +6+7+8+9+10"
   ]
  },
  {
   "cell_type": "markdown",
   "id": "5ec03845",
   "metadata": {},
   "source": [
    "Here is another example for a line continuation. In this example, a text\n",
    "is split into three lines."
   ]
  },
  {
   "cell_type": "code",
   "execution_count": null,
   "id": "ff9d6a62",
   "metadata": {},
   "outputs": [],
   "source": [
    "a='This is a sample to show a line continuation. ' \\\n",
    "    'Now let’s start the 2nd line, ' \\\n",
    "    'This is the 3rd line.'"
   ]
  },
  {
   "cell_type": "markdown",
   "id": "5fc416ae",
   "metadata": {},
   "source": [
    "Typically, code developers are expected to include some explanations\n",
    "throughout a source code. These explanations even become more necessary\n",
    "when we are dealing with long codes and complex projects. These extra\n",
    "explanations and descriptions help to add more clarification to a code\n",
    "and provide references for the future. It also can help other developers\n",
    "to understand the logic behind a code. These additional explanations are\n",
    "called comments. In Python, a comment is marked by using a hash\n",
    "character, #, at the start of the comment. This tells Python interpreter\n",
    "to ignore anything comes after #. A comment can be a separate line, or\n",
    "it can be entered at the end of the line after Python commands. Here is\n",
    "an example of how to use comments in Python:"
   ]
  },
  {
   "cell_type": "code",
   "execution_count": null,
   "id": "638ea772",
   "metadata": {},
   "outputs": [],
   "source": [
    "#In the next line, 2+3 is assigned to a\n",
    "a=2+3\n",
    "#In the next line, 2 is raised to the power 3\n",
    "b=2**3 #A value of b is equal to 8"
   ]
  },
  {
   "cell_type": "markdown",
   "id": "26350b7f",
   "metadata": {},
   "source": [
    "Python has specific naming rules for variable names. Here are rules that\n",
    "variable names should follow:\n",
    "\n",
    "-   Variable names can consist of letters (both uppercase, A-Z, and\n",
    "    lowercase, a-z), digits (0-9), and an underscore character (\\_).\n",
    "-   Variable names can have any length.\n",
    "-   Variable names should start with a letter or an underscore, \\_.\n",
    "    Variable names cannot start with a digit.\n",
    "-   The rest of a variable name, i.e. a part that comes after the first\n",
    "    character, can consist of letters, digits, and underscores.\n",
    "-   Variable names cannot be the same as Python keywords. To check if a\n",
    "    name is a Python keyword, the keyword.iskeyword('...') function may\n",
    "    be used. The keyword.kwlist function returns all Python keywords.\n",
    "-   Variable names are case sensitive. For example, age=60 and Age=60\n",
    "    are considered as two separate variables. Although it is allowed to\n",
    "    use both age and Age as a variable name, it is highly recommended to\n",
    "    avoid using both of them in the same code.\n",
    "-   Space is not allowed in variable names. Therefore, space cannot be\n",
    "    used between parts of a compound name. To split a variable name into\n",
    "    two or more parts, use an underscore character, \\_, between parts\n",
    "    (This practice is known as snake case). For example, best age=25 is\n",
    "    not correct. Some acceptable alternatives are: best_age=25, or\n",
    "    bestage=25, or BestAge=25, or any other combination without a space.\n",
    "-   It is suggested to avoid using the same name for variables and\n",
    "    functions, particularly in the same script.\n",
    "\n",
    "## 2.2 Python Built-in Functions, Standard Libraries, and Third-Party Libraries\n",
    "\n",
    "Python comes with built-in functions, standard libraries, and constants.\n",
    "All built-in functions are loaded at the moment Python starts and become\n",
    "available to use. Here are some of the Python built-in functions: abs(),\n",
    "int(), len(), list(), map(), max(), min(), open(), print(), range(), and\n",
    "str().\n",
    "\n",
    "Similar to built-in functions, Python comes with standard libraries\n",
    "pre-installed. However, unlike the built-in functions, standard\n",
    "libraries are not loaded when Python starts. To use any of the standard\n",
    "libraries, first, it should be loaded by using the import command. Any\n",
    "of these standard libraries includes a series of modules and functions\n",
    "which developed to conduct specific tasks. After a library imported, all\n",
    "associated functions in that library become available to use (for more\n",
    "information refer to a section on importing a library). Some of the\n",
    "Python standard libraries are: datetime, math, os, random, re,\n",
    "statistics, and sys.\n",
    "\n",
    "Likewise, Python comes with pre-defined constants. The most commonly\n",
    "used Python built-in constants are True, False, and None. Also, Python\n",
    "has a series of keywords such as if, for, and while.\n",
    "\n",
    "Furthermore, there are tons of popular third-party libraries for Python.\n",
    "Unlike the standard libraries that come pre-installed with Python, the\n",
    "third-party libraries need to be installed manually after Python is\n",
    "installed. Similar to the Python standard libraries, after the\n",
    "third-party library is installed, it should be loaded by using the\n",
    "import command before it can be used.\n",
    "\n",
    "When it comes to data analysis and scientific computing, there are a\n",
    "couple of well-known third-party libraries that are essential to have.\n",
    "First, is the NumPy library (Oliphant, 2006; www.numpy.org) which\n",
    "provides support for multi-dimensional arrays and matrices as well as\n",
    "advanced mathematical functions. Second, is the SciPy library (Virtanen\n",
    "et al. 2020; www.scipy.org) which contains modules for scientific\n",
    "computing such as optimization, interpolation, and signal processing.\n",
    "Third, is the Matplotlib library (Hunter, 2007; matplotlib.org) which is\n",
    "a plotting library for data visualizations. Fourth, is the Pandas\n",
    "library (McKinney, 2010; pandas.pydata.org) which is a package for\n",
    "tabular data manipulation and analysis.\n",
    "\n",
    "## 2.3 Import Library\n",
    "\n",
    "In Python, in simple words, a library (in a generic term) is a\n",
    "collection of packages, a package is a folder that contains a series of\n",
    "modules and classes, and a module is a file that contains one or more\n",
    "functions.\n",
    "\n",
    "Python libraries should be loaded every time Python starts. In fact,\n",
    "except for built-in functions, non-of the standard or third-party\n",
    "libraries is loaded when Python starts. To load any library, standard or\n",
    "third-party, the import command is used. Here is an example of how to\n",
    "load a Python standard library called math:\n",
    "\n",
    "|     |             |\n",
    "|-----|-------------|\n",
    "|     | import math |\n",
    "\n",
    "After a library is imported to Python, each module or function in that\n",
    "library can be called by using a library name followed by a dot followed\n",
    "by a module or function name. Here is an example of how to use the\n",
    "sqrt() function from the math library to calculate a square root of 10:"
   ]
  },
  {
   "cell_type": "code",
   "execution_count": null,
   "id": "4d53a1ca",
   "metadata": {},
   "outputs": [],
   "source": [
    "import math\n",
    "a=math.sqrt(10)"
   ]
  },
  {
   "cell_type": "markdown",
   "id": "65d825fd",
   "metadata": {},
   "source": [
    "The most common method to load a library in Python is to import a\n",
    "library while giving it a user-defined name. In practice, most\n",
    "developers tend to use a short form (abbreviation) of the library name\n",
    "rather than its full name in their code. Here is an example of how to\n",
    "give a short name to the Python math library and then call the sqrt()\n",
    "function to calculate a square root of 10:"
   ]
  },
  {
   "cell_type": "code",
   "execution_count": null,
   "id": "78b06773",
   "metadata": {},
   "outputs": [],
   "source": [
    "import math as m\n",
    "a=m.sqrt(10)"
   ]
  },
  {
   "cell_type": "markdown",
   "id": "289046e1",
   "metadata": {},
   "source": [
    "There are cases that we may only need specific functions or modules from\n",
    "a library. In such cases, we can import only those specific functions or\n",
    "modules rather than importing an entire library. Here is an example of\n",
    "how to import the sqrt() function rather than the entire math library to\n",
    "calculate a square root of 10:"
   ]
  },
  {
   "cell_type": "code",
   "execution_count": null,
   "id": "246f1095",
   "metadata": {},
   "outputs": [],
   "source": [
    "from math import sqrt\n",
    "a=sqrt(10)"
   ]
  },
  {
   "cell_type": "markdown",
   "id": "033afa3b",
   "metadata": {},
   "source": [
    "There is a method to import all function and module names in a library\n",
    "at once. By doing that, there is no need anymore to use a library name\n",
    "before a function or module name. Here is an example of how to import\n",
    "all function and module names in a library at once:"
   ]
  },
  {
   "cell_type": "code",
   "execution_count": null,
   "id": "d8f64974",
   "metadata": {},
   "outputs": [],
   "source": [
    "from math import *\n",
    "a=sqrt(10)"
   ]
  },
  {
   "cell_type": "markdown",
   "id": "220ec6b3",
   "metadata": {},
   "source": [
    "However, importing a library using \\* is considered a bad practice. It\n",
    "is highly recommended to avoid this method to import a library. The\n",
    "reasons are, first, it makes a syntax hard to follow as it is not clear\n",
    "which library each function is belonged to. Second, some libraries have\n",
    "similar function names. For example, both a Python math library and a\n",
    "NumPy library have a function called sqrt(). If the sqrt() function is\n",
    "called in a code that both math and NumPy libraries are present, then it\n",
    "is important to know which library this sqrt() function is belonged to,\n",
    "math or NumPy.\n",
    "\n",
    "Importing the third-party library is similar to importing a Python\n",
    "standard library. After the third-party library is installed, it can be\n",
    "imported using the import command. Here are some examples of importing\n",
    "the third-party libraries:"
   ]
  },
  {
   "cell_type": "code",
   "execution_count": null,
   "id": "e95ac0a2",
   "metadata": {},
   "outputs": [],
   "source": [
    "import numpy as np\n",
    "import scipy as sp\n",
    "from scipy import signal\n",
    "import matplotlib.pyplot as plt"
   ]
  },
  {
   "cell_type": "markdown",
   "id": "ecf8e509",
   "metadata": {},
   "source": [
    "## 2.4 Mathematical Operators\n",
    "\n",
    "Python has a couple of built-in mathematical libraries including cmath,\n",
    "decimal, fractions, math, numbers, random, and statistics. These\n",
    "mathematical libraries provide a series of arithmetic operators. When\n",
    "Python starts, some of its mathematical operators are available to use\n",
    "right away. However, other operators are only available as a function\n",
    "which can be obtained from one of the Python mathematical libraries. For\n",
    "example, a plus operator, +, is always available to use, while a root\n",
    "square operator is only available as the sqrt() function from the math\n",
    "library (Although it can be obtained from the third-party libraries as\n",
    "well). Therefore, to use the math.sqrt() function, the math library\n",
    "should be imported first.\n",
    "\n",
    "|     |                               |     |                                                                   |\n",
    "|-----|-------------------------------|-----|-------------------------------------------------------------------|\n",
    "|     | Python mathematical operators |     |                                                                   |\n",
    "|     | **Operation**                 |     | **Description**                                                   |\n",
    "|     | x + y                         |     | Add x and y                                                       |\n",
    "|     | x - y                         |     | Subtract y from x                                                 |\n",
    "|     | x \\* y                        |     | Multiply x by y                                                   |\n",
    "|     | x / y                         |     | Divide x by y                                                     |\n",
    "|     | x // y                        |     | Floor division: return a floor value of x divided by y            |\n",
    "|     | x % y                         |     | Modulo: a reminder of x divided by y                              |\n",
    "|     | operator.mod(x,y)             |     | Modulo: a reminder of x divided by y (part of operator module)    |\n",
    "|     | divmod(x,y)                   |     | Return (x//y, x%y)                                                |\n",
    "|     | -x                            |     | Negative x                                                        |\n",
    "|     | abs(x)                        |     | An absolute value of x (magnitude of x, if x is a complex number) |\n",
    "|     | pow(x,y)                      |     | Raise x to the power of y                                         |\n",
    "|     | x\\*\\*y                        |     | Raise x to the power of y                                         |\n",
    "|     | math.sqrt(x)                  |     | Return a square root of x (part of math library)                  |\n",
    "\n",
    "Here are examples of the typical arithmetic operators in Python:"
   ]
  },
  {
   "cell_type": "code",
   "execution_count": null,
   "id": "3a244b92",
   "metadata": {},
   "outputs": [],
   "source": [
    "#Assume two operands as x=3 and y=2\n",
    "#Add x and y\n",
    "a=3+2\n",
    "#Subtract y from x\n",
    "a=3-2\n",
    "#Multiply x by y\n",
    "a=3*2\n",
    "#Divide x by y\n",
    "a=3/2\n",
    "#Return a floor value of x divided by y\n",
    "#Output: 1\n",
    "a=3//2\n",
    "#Return a remainder of x divided by y\n",
    "#Output: 1\n",
    "a=3%2\n",
    "#Return a floor value and a remainder of x divided by y:\n",
    "(x//y,x%y)\n",
    "#Output: (1,1)\n",
    "divmod(3,2)\n",
    "#Return x raised to the power of y using the pow() built-in\n",
    "function\n",
    "#Output: 9\n",
    "a=pow(3,2)\n",
    "#Return x raised to the power of y\n",
    "#Output: 9\n",
    "a=3**2\n",
    "#Return a square root of x using the sqrt() function from the math library\n",
    "import math\n",
    "a=math.sqrt(3)"
   ]
  },
  {
   "cell_type": "markdown",
   "id": "a5c2ee9a",
   "metadata": {},
   "source": [
    "Python supports in-place operations. A simple method to use an in-place\n",
    "operation is to use an operator right before the equal sign, =. For\n",
    "example, a simple format of an in-place operation for an add is += and\n",
    "for a subtract is -=. Here are some of the in-place operators: +=, -=,\n",
    "\\*=, /=, //=, %=, \\*\\*=.\n",
    "\n",
    "To describe how a simple in-place operator works, let’s write an\n",
    "in-place example as x += y. In this example, x += y expression is\n",
    "equivalent to x=x+y. Similarly, x += 1 is equal to x=x+1, and x -= 1 is\n",
    "equal to x=x-1.\n",
    "\n",
    "## 2.5 Comparison Operators\n",
    "\n",
    "Python offers a series of comparison operators. These operators compare\n",
    "expressions with each other. These operators typically return True if a\n",
    "statement is correct and return False if a statement is not correct.\n",
    "These operators are typically used substantially during numerical\n",
    "computations.\n",
    "\n",
    "|     |                                 |     |                                                         |\n",
    "|-----|---------------------------------|-----|---------------------------------------------------------|\n",
    "|     | **Python comparison operators** |     |                                                         |\n",
    "|     | **Operation**                   |     | **Description**                                         |\n",
    "|     | x \\< y                          |     | Evaluate if x is less than y                            |\n",
    "|     | x \\<= y                         |     | Evaluate if x is less than or equal to y                |\n",
    "|     | x \\> y                          |     | Evaluate if x is greater than y                         |\n",
    "|     | x \\>= y                         |     | Evaluate if x is greater than or equal to y             |\n",
    "|     | x == y                          |     | Evaluate if x is equal to y                             |\n",
    "|     | x != y                          |     | Evaluate if x is not equal to y                         |\n",
    "|     | x is y                          |     | Object identity, imply x == y (True if the same object) |\n",
    "|     | x is not y                      |     | Negated object identity (True if not the same object)   |\n",
    "|     | x in s                          |     | Evaluate if x is a member of s                          |\n",
    "|     | x not in s                      |     | Evaluate if x is not a member of s                      |\n",
    "\n",
    "Here are examples of comparison operators in Python:"
   ]
  },
  {
   "cell_type": "code",
   "execution_count": null,
   "id": "f1e57e58",
   "metadata": {},
   "outputs": [],
   "source": [
    "#Statement in the next line returns True\n",
    "3>2\n",
    "#Statement in the next line returns False\n",
    "3==2\n",
    "#Statement in the next line returns True\n",
    "(3>2) is True\n",
    "#Statement in the next line returns True\n",
    "(3>2) is not False\n",
    "#Statement in the next line returns False\n",
    "3 is None\n",
    "#Statement in the next line returns True\n",
    "3 in [1,2,3]\n",
    "#Statement in the next line returns False\n",
    "3 not in [1,2,3]"
   ]
  },
  {
   "cell_type": "markdown",
   "id": "bcbbcf19",
   "metadata": {},
   "source": [
    "## 2.6 Boolean Operators\n",
    "\n",
    "There are 3 Boolean (logical) operators in Python: or, and, not. These\n",
    "operators evaluate given expressions and return True or False. Statement\n",
    "(x or y) returns True if one of the x or y is True, otherwise, it\n",
    "returns False. Statement (x and y) returns True if both x and y are\n",
    "True, otherwise, it returns False. Statement (not x) returns True if x\n",
    "is False, otherwise, it returns False. Between Boolean operators, or has\n",
    "the highest priority and not has the lowest priority.\n",
    "\n",
    "|     |                              |     |                                      |\n",
    "|-----|------------------------------|-----|--------------------------------------|\n",
    "|     | **Python Boolean operators** |     |                                      |\n",
    "|     | **Operation**                |     | **Description**                      |\n",
    "|     | x or y                       |     | Return True if x or y is True        |\n",
    "|     | x and y                      |     | Return True if both x and y are True |\n",
    "|     | not x                        |     | Return True if x is False            |\n",
    "\n",
    "Here are examples of Boolean operators in Python:"
   ]
  },
  {
   "cell_type": "code",
   "execution_count": null,
   "id": "b924e7a0",
   "metadata": {},
   "outputs": [],
   "source": [
    "#Statement in the next line returns True\n",
    "(3>2) or (2<1)\n",
    "#Statement in the next line returns False\n",
    "(3>2) and (2==1)\n",
    "#Statement in the next line returns False\n",
    "not (3>2)"
   ]
  },
  {
   "cell_type": "markdown",
   "id": "bb58c301",
   "metadata": {},
   "source": [
    "## 2.7 Bitwise Operators\n",
    "\n",
    "There are 6 bitwise operators in Python: \\|, ^, &, \\<\\<, \\>\\>, \\~. These\n",
    "operators are normally used with integers. In this case, integers are\n",
    "considered as a string of bits. Statement (x \\| y) returns 1 if one of\n",
    "the x or y is 1, otherwise, it returns 0. Statement (x & y) returns 1 if\n",
    "both x and y are 1, otherwise, it returns 0. Bitwise operators have a\n",
    "higher priority than comparison operators and have a lower priority than\n",
    "numerical operators.\n",
    "\n",
    "|     |                              |     |                                                                     |\n",
    "|-----|------------------------------|-----|---------------------------------------------------------------------|\n",
    "|     | **Python bitwise operators** |     |                                                                     |\n",
    "|     | **Operation**                |     | **Description**                                                     |\n",
    "|     | x & y                        |     | Evaluate bitwise and, return1 if both x and y are 1, otherwise 0    |\n",
    "|     | x \\| y                       |     | Evaluate bitwise or, return1 if one of x and y are 1, otherwise 0   |\n",
    "|     | x ^ y                        |     | Evaluate bitwise exclusive or                                       |\n",
    "|     | x \\<\\< y                     |     | Return x shifted to the left by y places, is equal to x \\* (2\\*\\*y) |\n",
    "|     | x \\>\\> y                     |     | Return x shifted to the right by y places, is equal to x //(2\\*\\*y) |\n",
    "|     | \\~x                          |     | Return a complement of x, is equal to (-x-1)                        |\n",
    "\n",
    "Here are examples of bitwise operators in Python:"
   ]
  },
  {
   "cell_type": "code",
   "execution_count": null,
   "id": "93613275",
   "metadata": {},
   "outputs": [],
   "source": [
    "#Statement in the next line returns 111\n",
    "110 | 101\n",
    "#Statement in the next line returns 100\n",
    "110 & 101"
   ]
  },
  {
   "cell_type": "markdown",
   "id": "28552fb3",
   "metadata": {},
   "source": [
    "Note that bitwise operators might be used similarly to Boolean operators\n",
    "to create a combination of several conditional expressions (compound\n",
    "conditional expressions). However, if bitwise operators are used for\n",
    "this purpose, each conditional expression should be placed in a separate\n",
    "set of parentheses, otherwise, it may cause an error. Remember, only\n",
    "bitwise operators can be used to create compound conditional expressions\n",
    "for Boolean (conditional) indexing. Boolean operators cannot be used for\n",
    "an indexing purpose. There are more details on Boolean indexing in the\n",
    "following chapters.\n",
    "\n",
    "## 2.8 Integer and Floating Point\n",
    "\n",
    "In Python, there are 3 numerical types that are used the most. They are\n",
    "integer, floating point, and complex numbers. Integers are zero,\n",
    "positive, or negative numbers without any decimal point and decimal part\n",
    "such as a=3. Floating points are numbers that have a decimal point and a\n",
    "decimal part (a fraction part) such as a=3.2. Note that a=3 is an\n",
    "integer while a=3.0 is a floating point.\n",
    "\n",
    "The int(x) function converts x to integer or returns an integer part of\n",
    "x. The float(x) converts x to a floating point. The math.ceil(x) returns\n",
    "the smallest integer that is greater than or equal to x. The\n",
    "math.floor(x) returns the largest integer that is less than or equal to\n",
    "x.\n",
    "\n",
    "If a variable becomes equal to math.nan, it means that a variable has a\n",
    "value equal to a floating point “not a number”. If a variable becomes\n",
    "equal to math.inf, it means that a variable has a value equal to a\n",
    "floating point positive infinity (-math.inf is negative infinity).\n",
    "\n",
    "|     |                     |     |                                                                     |\n",
    "|-----|---------------------|-----|---------------------------------------------------------------------|\n",
    "|     | Python number types |     |                                                                     |\n",
    "|     | **Operation**       |     | **Description**                                                     |\n",
    "|     | int(x)              |     | Convert x to an integer                                             |\n",
    "|     | float(x)            |     | Convert x to a floating point                                       |\n",
    "|     | round(x,n)          |     | Return x rounded to n precision after a decimal point (default n=0) |\n",
    "|     | math.ceil(x)        |     | Return the smallest integer greater than or equal to x              |\n",
    "|     | math.floor(x)       |     | Return the largest integer less than or equal to x                  |\n",
    "\n",
    "Here are examples of integers and floating point numbers:"
   ]
  },
  {
   "cell_type": "code",
   "execution_count": null,
   "id": "0fd35bf8",
   "metadata": {},
   "outputs": [],
   "source": [
    "#All following variables are integers\n",
    "import math\n",
    "a=3\n",
    "b=-2\n",
    "c=int(3.2)\n",
    "d=round(3.456)\n",
    "f=math.ceil(3.2)\n",
    "g=math.floor(3.2)\n",
    "#All following variables are floating points\n",
    "h=3.2\n",
    "k=-2.1\n",
    "l=float(3)\n",
    "m=round(3.456,2)\n",
    "n=3.0"
   ]
  },
  {
   "cell_type": "markdown",
   "id": "9b021e6d",
   "metadata": {},
   "source": [
    "To truncate a floating point number x to n precision after a decimal\n",
    "point without rounding it, we can use a mathematical expression\n",
    "(int(x\\*10\\*\\*n))/(10\\*\\*n). Here is an example of how to keep only 2\n",
    "digits after a decimal point:"
   ]
  },
  {
   "cell_type": "code",
   "execution_count": null,
   "id": "2b879870",
   "metadata": {},
   "outputs": [],
   "source": [
    "#Following statement returns 2 digits after a decimal point \n",
    "#Convert 3.45678 to 3.45\n",
    "#Output: 3.45\n",
    "import math\n",
    "a=(int(3.45678*10**2))/(10**2)\n",
    "print(a)"
   ]
  },
  {
   "cell_type": "markdown",
   "id": "e93c1ada",
   "metadata": {},
   "source": [
    "A scientific notation (a scientific number) is typically presented by a\n",
    "mathematical expression as $$m\\times 10^{n}$$. In Python, a scientific\n",
    "notation is presented by using a letter e or E. In this form, a letter e\n",
    "or E presents “times ten raised to the power of”. For example, a\n",
    "mathematical expression of $$1.23\\times 10^{4}$$ is written as 1.23e4 in\n",
    "Python. Here are examples of scientific notations in Python:"
   ]
  },
  {
   "cell_type": "code",
   "execution_count": null,
   "id": "8d9093bc",
   "metadata": {},
   "outputs": [],
   "source": [
    "#Scientific notations (scientific numbers)\n",
    "a=1.23e4\n",
    "b=4.5e-6\n",
    "c=-8E12"
   ]
  },
  {
   "cell_type": "markdown",
   "id": "eca4f0c4",
   "metadata": {},
   "source": [
    "## 2.9 Complex Numbers\n",
    "\n",
    "A Complex number in Python is defined as\n",
    "$${\\mathit{real} + \\mathit{imag}}\\times 1j$$, where $$j = \\sqrt{- 1}$$\n",
    "is an imaginary unit. Typically, an imaginary unit is presented by $$i$$\n",
    "in mathematical texts, however, Python uses j for that purpose. Note\n",
    "that, to yield an imaginary number, an imaginary unit j should be always\n",
    "appended to a numeric literal such as 1j. There should not be any space\n",
    "between a number and j. If j is not attached to a number, then Python\n",
    "considers it as a variable, not as an imaginary unit. In Python, the\n",
    "cmath library provides mathematical functions for complex numbers.\n",
    "\n",
    "A complex number in Python can be defined by one of the following\n",
    "methods:\n",
    "\n",
    "-   The first method is to define a complex number by using the\n",
    "    complex() function as z=complex(real,imag), where z is a complex\n",
    "    number, real is a real part of the complex number, and imag is an\n",
    "    imaginary part of the complex number. Note that, complex(x) is\n",
    "    considered as complex(x,0).\n",
    "-   The second method is to define a complex number as z=a+bj, such as\n",
    "    z=3+2j or z=x+y\\*1j.\n",
    "\n",
    "For any given complex number such as z, its magnitude can be obtained by\n",
    "abs(z), its real part can be obtained by .real as z.real, and its\n",
    "imaginary part can be obtained by .imag as z.imag, and its phase can be\n",
    "obtained by cmath.phase(z).\n",
    "\n",
    "|     |                       |     |                                                                                                             |\n",
    "|-----|-----------------------|-----|-------------------------------------------------------------------------------------------------------------|\n",
    "|     | Python complex number |     |                                                                                                             |\n",
    "|     | **Operation**         |     | **Description**                                                                                             |\n",
    "|     | complex(real,imag)    |     | A complex number as $$\\left( {{\\mathit{real} + \\mathit{imag}}\\times 1j} \\right)$$, where $$j = \\sqrt{- 1}$$ |\n",
    "|     | abs(z)                |     | Return an absolute value of z (magnitude of z, if z is a complex number)                                    |\n",
    "|     | z.real                |     | Return a real part of a complex number z                                                                    |\n",
    "|     | z.imag                |     | Return an imaginary part of a complex number z                                                              |\n",
    "|     | cmath.phase(z)        |     | Return a phase of a complex number z (part of cmath library)                                                |\n",
    "\n",
    "Here are examples of complex numbers in Python:"
   ]
  },
  {
   "cell_type": "code",
   "execution_count": null,
   "id": "d1178c53",
   "metadata": {},
   "outputs": [],
   "source": [
    "#Return a complex number as z=x+y*1j using the complex() function\n",
    "z=complex(3,2)\n",
    "#Return a complex number as z=x+y*1j\n",
    "z=3+2j\n",
    "#Return a complex number as z=x+y*1j\n",
    "x=3\n",
    "y=2\n",
    "z=x+y*1j\n",
    "#Return a real part of the complex number\n",
    "#Output: 3\n",
    "z.real\n",
    "#Return an imaginary part of the complex number\n",
    "#Output: 2\n",
    "z.imag\n",
    "#Return a magnitude of the complex number\n",
    "#Output: 3.6055\n",
    "abs(z)\n",
    "#Return a phase of the complex number\n",
    "#Output: 0.5880\n",
    "import cmath\n",
    "cmath.phase(z)"
   ]
  },
  {
   "cell_type": "markdown",
   "id": "634d3cb2",
   "metadata": {},
   "source": [
    "## 2.10 Strings\n",
    "\n",
    "Python has a large number of features and commands for text processing\n",
    "and string manipulation. To create a string from a sequence of\n",
    "characters in Python, one of the following methods can be used:\n",
    "\n",
    "-   Insert a sequence of characters inside single quotes ('...')\n",
    "-   Insert a sequence of characters inside double quotes (\"...\")\n",
    "-   Use the str() function\n",
    "\n",
    "Also, a series of strings may be used to form a string list. There are\n",
    "more details on Python list in the following chapters. Note that, triple\n",
    "double quotes, \"\"\"...\"\"\", are used to create docstrings. There are more\n",
    "details on docstrings in the following sections. Here are examples of\n",
    "defining strings in Python:"
   ]
  },
  {
   "cell_type": "code",
   "execution_count": null,
   "id": "eb1501a5",
   "metadata": {},
   "outputs": [],
   "source": [
    "#Create a string\n",
    "name='Python'\n",
    "txt=\"This is a text\"\n",
    "s=str('word')\n",
    "lst=['Python','program'] #A string list\n",
    "#Create a string from a variable\n",
    "#Output: 123\n",
    "a=123\n",
    "st=str(a)\n",
    "print(st)"
   ]
  },
  {
   "cell_type": "markdown",
   "id": "8bc59c85",
   "metadata": {},
   "source": [
    "To add two strings together, which also is known as strings\n",
    "concatenation, simply use plus operator, +. Here is an example of\n",
    "attaching two strings together. In this example, we create a “butterfly”\n",
    "string from “butter” and “fly” strings."
   ]
  },
  {
   "cell_type": "code",
   "execution_count": null,
   "id": "c62fb65c",
   "metadata": {},
   "outputs": [],
   "source": [
    "#Add two strings\n",
    "#Output: butterfly\n",
    "first_part='butter'\n",
    "second_part='fly'\n",
    "word=first_part+second_part\n",
    "print(word)"
   ]
  },
  {
   "cell_type": "markdown",
   "id": "818b1552",
   "metadata": {},
   "source": [
    "Here is an example of how to insert a numerical variable in a string. In\n",
    "this example, we want to insert a variable that shows a length of a pool\n",
    "into a string. To do that, we use str() to convert a number into a\n",
    "string and we use plus operator to add all strings together."
   ]
  },
  {
   "cell_type": "code",
   "execution_count": null,
   "id": "376c7991",
   "metadata": {},
   "outputs": [],
   "source": [
    "#Insert a numerical variable in a string\n",
    "#Output: Length of this pool is 3m.\n",
    "a=3\n",
    "txt='Length of this pool is '+str(a)+'m.'\n",
    "print(txt)"
   ]
  },
  {
   "cell_type": "markdown",
   "id": "a54f9024",
   "metadata": {},
   "source": [
    "Similarly, a string variable can be inserted in a text. Here is an\n",
    "example of how to insert a string variable in a text."
   ]
  },
  {
   "cell_type": "code",
   "execution_count": null,
   "id": "8765aa9a",
   "metadata": {},
   "outputs": [],
   "source": [
    "#Insert a string variable in a text\n",
    "#name is replaced by 'pool'\n",
    "#Output: Length of this pool is 3m.\n",
    "name='pool'\n",
    "txt='Length of this '+name+' is 3m.'\n",
    "print(txt)"
   ]
  },
  {
   "cell_type": "markdown",
   "id": "00c18146",
   "metadata": {},
   "source": [
    "Indexes (indices) can be used to call characters stored in a string. To\n",
    "access an element in a string, an element is called by using a string\n",
    "name followed by an index of that element inside square brackets,\n",
    "\\[...\\]. For example, consider a string that is stored in a variable\n",
    "named txt. Then, the first element in txt is obtained by txt\\[0\\] and\n",
    "the second element is obtained by txt\\[1\\]. Python uses zero-based\n",
    "indexing (numbering). It means that, in Python, the first element has an\n",
    "index 0, the second element has an index 1, and so on. Note that, some\n",
    "programming languages, such as MATLAB (MATLAB is a registered trademark\n",
    "of The MathWorks, Inc.; www.mathworks.com), use one-based indexing,\n",
    "where the first element has an index 1.\n",
    "\n",
    "Python also uses negative indexing. In negative indexing, -i (negative\n",
    "i) is interpreted as n-i, where n is equal to the total number of\n",
    "elements in a corresponding dimension. For example, to access the last\n",
    "element in txt, we can use txt\\[-1\\] which is equal to txt\\[n-1\\]. There\n",
    "are more details on indexing and slicing in the following chapters. Here\n",
    "is how a word “butterfly”, which is stored as a string, is indexed in\n",
    "Python:\n",
    "\n",
    "|                 |        |        |        |        |        |        |        |        |        |\n",
    "|-----------------|--------|--------|--------|--------|--------|--------|--------|--------|--------|\n",
    "| Variable:       | b      | u      | t      | t      | e      | r      | f      | l      | y      |\n",
    "|                 |        |        |        |        |        |        |        |        |        |\n",
    "| Index:          | \\[0\\]  | \\[1\\]  | \\[2\\]  | \\[3\\]  | \\[4\\]  | \\[5\\]  | \\[6\\]  | \\[7\\]  | \\[8\\]  |\n",
    "| Negative Index: | \\[-9\\] | \\[-8\\] | \\[-7\\] | \\[-6\\] | \\[-5\\] | \\[-4\\] | \\[-3\\] | \\[-2\\] | \\[-1\\] |\n",
    "\n",
    "Here are examples of calling elements in a string. In this example, the\n",
    "first element is “b”, the second element is “u”, the third element is\n",
    "“t”, and so on."
   ]
  },
  {
   "cell_type": "code",
   "execution_count": null,
   "id": "d9c9ef7c",
   "metadata": {},
   "outputs": [],
   "source": [
    "#Use indexes to call characters stored in a string\n",
    "s='butterfly'\n",
    "fisrt_character=s[0]\n",
    "second_character=s[1]\n",
    "last_character=s[-1]"
   ]
  },
  {
   "cell_type": "markdown",
   "id": "fef4a057",
   "metadata": {},
   "source": [
    "There are different methods to format a string or text in Python. The\n",
    "simplest method is to use special characters to do that. These special\n",
    "characters are called escape sequences. For example, an escape sequence\n",
    "\\\\t inserts a tab space and an escape sequence \\\\n starts a new line in\n",
    "a printed text. Here are some examples of using escape sequences to\n",
    "format a text:"
   ]
  },
  {
   "cell_type": "code",
   "execution_count": null,
   "id": "ff283852",
   "metadata": {},
   "outputs": [],
   "source": [
    "#Python interprets escape sequence \\n as a new-line\n",
    "txt='This is the 1st line \\n this is the 2nd line'\n",
    "print(txt)\n",
    "#Python interprets escape sequence \\t as a tab-space\n",
    "txt='Length of this pool is \\t 3m'\n",
    "print(txt)"
   ]
  },
  {
   "cell_type": "markdown",
   "id": "47cabb7c",
   "metadata": {},
   "source": [
    "In some texts, a user may intend to use an escape sequence itself,\n",
    "rather than its interpretation. In other words, a user may want to\n",
    "prevent an interpretation of an escape sequence. In such cases, Python\n",
    "should be instructed to ignore a special interpretation of that escape\n",
    "sequence. To do that, a letter r or R is added in front of the text.\n",
    "Adding a letter r in front of a text changes the text into a raw string.\n",
    "Here is an example of using a raw string. In this example, we use a raw\n",
    "string to tell Python to ignore \\\\n in a string, otherwise, Python\n",
    "interprets \\\\n as an escape sequence to start a new line."
   ]
  },
  {
   "cell_type": "code",
   "execution_count": null,
   "id": "84256e5b",
   "metadata": {},
   "outputs": [],
   "source": [
    "#A raw string\n",
    "#Letter r before quotes tells Python to ignore all escape sequences\n",
    "#Therefore, Python ignores \\n\n",
    "txt=r'C:\\name'\n",
    "print(txt)"
   ]
  },
  {
   "cell_type": "markdown",
   "id": "07721f15",
   "metadata": {},
   "source": [
    "The more sophisticated way to format a string in Python is to use\n",
    "str.format() method. To use this method, at first, a section of the\n",
    "string that needs to be formatted is marked by using braces (curly\n",
    "brackets), {}, symbols. Each set of braces, {}, presents a placeholder\n",
    "that will be replaced by a given string inside the parenthesis of\n",
    ".format().\n",
    "\n",
    "A general format for a placeholder is {placeholder id : format\n",
    "specifier}. If a placeholder id is not defined, then each placeholder is\n",
    "replaced by given texts inside .format() in an order that placeholders\n",
    "appear in a text. It means that, the first placeholder is replaced by\n",
    "the first string inside .format(), the second placeholder is replaced by\n",
    "the second string inside .format(), and so on. If a placeholder is\n",
    "identified either by an index number or by a keyword, then it is\n",
    "replaced by a string that matches its id inside the .format(). For\n",
    "example, {0} is a placeholder with an identification number of id=0, and\n",
    "is replaced by a string inside .format() that has the same id number.\n",
    "Similarly, {a} is a placeholder with an identification keyword of id=a,\n",
    "and is replaced by a string inside .format() that has the same id\n",
    "keyword. If a format specifier is not defined, then an imported text\n",
    "from .format() follows a default text format.\n",
    "\n",
    "|     |                             |     |                          |     |          |\n",
    "|-----|-----------------------------|-----|--------------------------|-----|----------|\n",
    "|     | Python Conversion Specifier |     |                          |     |          |\n",
    "|     | Conversion Specifier        |     | Description              |     | Example  |\n",
    "|     | c                           |     | Single character         |     | {0:c}    |\n",
    "|     | d                           |     | Decimal                  |     | {0:d}    |\n",
    "|     | e                           |     | Exponential (Scientific) |     | {0:e}    |\n",
    "|     | f                           |     | Float                    |     | {0:f}    |\n",
    "|     | s                           |     | String                   |     | {0:s}    |\n",
    "|     | \\<                          |     | Left-aligned             |     | {0:7\\<s} |\n",
    "|     | ^                           |     | Center-aligned           |     | {0:7^s}  |\n",
    "\n",
    "Here are steps to insert a simple placeholder without an id and format\n",
    "specifier as {} in a text and use .format() method to replace that\n",
    "placeholder:\n",
    "\n",
    "-   Write the desired text as a string. It can be a standalone string,\n",
    "    or it can be assigned to a variable. For example, consider the\n",
    "    desired text as 'A butterfly has 4 wings.'\n",
    "-   Use placeholder symbols, {}, to substitute a part of the text that\n",
    "    needs to be repeatedly replaced or formatted. For example, assume in\n",
    "    the text 'A butterfly has 4 wings.', a number “4” needs to replaced.\n",
    "    Therefore, the text is rewritten as 'A butterfly has {} wings.'.\n",
    "-   Use the .format() to replace a placeholder. Anything that is\n",
    "    inserted inside the parenthesis of .format() replaces a placeholder.\n",
    "    In this example, a number 4 should replace {} symbols. Therefore, a\n",
    "    number 4 is inserted inside .format() as 'A butterfly has {}\n",
    "    wings.'.format(4). This instructs Python to insert 4 in place of {}.\n",
    "\n",
    "Here are examples of using {} symbols as a placeholder without id. In\n",
    "these examples, at first, we show how to use and replace a placeholder\n",
    "to insert 4 in a string “A butterfly has {} wings.”. Then, we present\n",
    "different examples of how to use {} as a placeholder."
   ]
  },
  {
   "cell_type": "code",
   "execution_count": null,
   "id": "3a04e217",
   "metadata": {},
   "outputs": [],
   "source": [
    "#Braces {} define a placeholder that is replaced by 4\n",
    "#Output: A butterfly has 4 wings.\n",
    "txt='A butterfly has {} wings.'.format(4)\n",
    "print(txt)\n",
    "#Braces {} define a placeholder that is replaced by 'four'\n",
    "#Output: A butterfly has four wings.\n",
    "txt='A butterfly has {} wings.'.format('four')\n",
    "print(txt)\n",
    "#Braces {} define a placeholder that is replaced by 4\n",
    "s='A butterfly has {} wings.'\n",
    "txt=s.format(4)\n",
    "print(txt)\n",
    "#Braces {} and {} define two placeholders that are replaced by 4 and 6\n",
    "#Output: A butterfly has 4 wings and 6 legs.\n",
    "s='A butterfly has {} wings and {} legs.'\n",
    "txt=s.format(4,6)\n",
    "print(txt)"
   ]
  },
  {
   "cell_type": "markdown",
   "id": "18fc5123",
   "metadata": {},
   "source": [
    "Here are examples of using {} symbols as a placeholder that is\n",
    "identified by an index number:"
   ]
  },
  {
   "cell_type": "code",
   "execution_count": null,
   "id": "d81c803f",
   "metadata": {},
   "outputs": [],
   "source": [
    "#Braces {0}, {1}, and, {2} are three placeholders\n",
    "#identified by index numbers \n",
    "#{0} refers to an index 0 and is replaced by 'four'\n",
    "#{1} refers to an index 1 and is replaced by 'six'\n",
    "#{2} refers to an index 2 and is replaced by 'two'\n",
    "#Output: A butterfly has four wings, six legs, and two antennae.\n",
    "s='A butterfly has {0} wings, {1} legs, and {2} antennae.'\n",
    "txt=s.format('four','six','two')\n",
    "print(txt)\n",
    "#Braces {0}, {1}, and, {2} are three placeholders\n",
    "#identified by index numbers \n",
    "#{0} refers to an index 0 and is replaced by t[0]\n",
    "#{1} refers to an index 1 and is replaced by t[1]\n",
    "#{2} refers to an index 2 and is replaced by t[2]\n",
    "#t is a tuple\n",
    "t=('four','six','two')\n",
    "s='A butterfly has {0} wings, {1} legs, and {2} antennae.'\n",
    "txt=s.format(t[0],t[1],t[2])\n",
    "print(txt)"
   ]
  },
  {
   "cell_type": "markdown",
   "id": "8966ebe4",
   "metadata": {},
   "source": [
    "Here is an example of using {} symbols as a placeholder that is\n",
    "identified by a keyword:"
   ]
  },
  {
   "cell_type": "code",
   "execution_count": null,
   "id": "cec6184c",
   "metadata": {},
   "outputs": [],
   "source": [
    "#Braces {wng}, {leg}, and, {ant} are three placeholders\n",
    "#identified by keywords \n",
    "#{wng} refers to a keyword wng and is replaced by 'four'\n",
    "#{leg} refers to a keyword leg and is replaced by 'six'\n",
    "#{ant} refers to a keyword ant and is replaced by 'two'\n",
    "s='A butterfly has {wng} wings, {leg} legs, and {ant} antennae.'\n",
    "txt=s.format(wng='four',leg='six',ant='two')\n",
    "print(txt)"
   ]
  },
  {
   "cell_type": "markdown",
   "id": "4dafac0e",
   "metadata": {},
   "source": [
    "Here are examples of using variables to replace placeholders, {}:"
   ]
  },
  {
   "cell_type": "code",
   "execution_count": null,
   "id": "0f75af9b",
   "metadata": {},
   "outputs": [],
   "source": [
    "#Braces {0}, {1}, and, {2} are three placeholders\n",
    "#identified by index number \n",
    "#{0} refers to an index 0 and is replaced by wng='four'\n",
    "#{1} refers to an index 1 and is replaced by leg='six'\n",
    "#{2} refers to an index 2 and is replaced by ant='two'\n",
    "wng='four'\n",
    "leg='six'\n",
    "ant='two'\n",
    "s='A butterfly has {0} wings, {1} legs, and {2} antennae.'\n",
    "txt=s.format(wng,leg,ant)\n",
    "print(txt)\n",
    "#Braces {a}, {b}, and, {c} are three placeholders\n",
    "#identified by keywords \n",
    "#{a} refers to a keyword a and is replaced by wng='four'\n",
    "#{b} refers to a keyword b and is replaced by leg='six'\n",
    "#{c} refers to a keyword c and is replaced by ant='two'\n",
    "wng='four'\n",
    "leg='six'\n",
    "ant='two'\n",
    "s='A butterfly has {a} wings, {b} legs, and {c} antennae.'\n",
    "txt=s.format(a=wng,b=leg,c=ant)\n",
    "print(txt)"
   ]
  },
  {
   "cell_type": "markdown",
   "id": "780b32d4",
   "metadata": {},
   "source": [
    "As it is demonstrated, braces, {}, are used to mark and replace a text\n",
    "in a string. In addition to that, braces, {}, can be used to format a\n",
    "replacement text. To do that, a placeholder is inserted as {placeholder\n",
    "id : format specifier} in a string. The placeholder id shows an\n",
    "identification of a placeholder, and the format specifier defines a\n",
    "format conversion of the replacement text. For example, a letter f\n",
    "defines a float number if it is used as a format specifier. To better\n",
    "describe that, consider {0,.2f} as a placeholder. It interprets as a\n",
    "placeholder with an identification of id=0 and a format specifier of\n",
    ".2f. The format specifier of .2f means to use a floating point with two\n",
    "digits after a decimal point. Here are examples of how to use a\n",
    "placeholder to format a replacement text:"
   ]
  },
  {
   "cell_type": "code",
   "execution_count": null,
   "id": "32351231",
   "metadata": {},
   "outputs": [],
   "source": [
    "#Braces {0:f} is a placeholders identified by an index number\n",
    "\n",
    "#{0:f} reads as {placeholder_id=0:format_specifier=float}\n",
    "#0 refers to an index 0 and is replaced by 71\n",
    "#f converts a number to a float\n",
    "#Output:\n",
    "#About 71.000000 percent of the Earth surface is covered by water.\n",
    "s='About {0:f} percent of the Earth surface is covered by water.'\n",
    "txt=s.format(71)\n",
    "print(txt)\n",
    "#Braces {0:.2f} is a placeholder identified by an index number \n",
    "#{0:.2f} reads as\n",
    "#{placeholder_id=0:format_specifier=2 digits decimal float}\n",
    "#0 refers to an index 0 and is replaced by 71\n",
    "#.2f converts a number to a float with 2 digits after decimal point\n",
    "#Output: About 71.00 percent of the Earth surface is covered by water.\n",
    "s='About {0:.2f} percent of the Earth surface is covered by\n",
    "water.'\n",
    "txt=s.format(71)\n",
    "print(txt)\n",
    "#Braces {red:7}, {green:7}, and, {blue:7} are three placeholders\n",
    "#identified by keywords \n",
    "#{red:7} reads as\n",
    "#{placeholder_id=red:format_specifier=right-aligned 7 characters width}\n",
    "#{green:7} reads as\n",
    "#{placeholder_id=green:format_specifier=right-aligned 7 characters width}\n",
    "#{blue:7} reads as\n",
    "#{placeholder_id=blue:format_specifier=right-aligned 7 characters width}\n",
    "#{red:7} refers to a keyword red and is replaced by 135\n",
    "#{green:7} refers to a keyword green and is replaced by 206\n",
    "#{blue:7} refers to a keyword blue and is replaced by 235\n",
    "#Output: RGB values for sky blue color are: 135, 206, 235.\n",
    "s='RGB values for sky blue color are:{red:7},{green:7},{blue:7}.'\n",
    "txt=s.format(red=135,green=206,blue=235)\n",
    "print(txt)\n",
    "#Braces {red:<7}, {green:<7}, and, {blue:<7} are three placeholders\n",
    "#identified by keywords \n",
    "#{red:<7} reads as\n",
    "#{placeholder_id=red:format_specifier=left-aligned 7 characters width}\n",
    "#{green:<7} reads as\n",
    "#{placeholder_id=green:format_specifier=left-aligned 7 characters width}\n",
    "#{blue:<7} reads as\n",
    "#{placeholder_id=blue:format_specifier=left-aligned 7 characters width}\n",
    "#{red:<7} refers to a keyword red and is replaced by 135\n",
    "#{green:<7} refers to a keyword green and is replaced by 206\n",
    "#{blue:<7} refers to a keyword blue and is replaced by 235\n",
    "#Output: RGB values for sky blue color are:135 ,206 ,235 .\n",
    "s='RGB values for sky blue color\n",
    "are:{red:<7},{green:<7},{blue:<7}.'\n",
    "txt=s.format(red=135,green=206,blue=235)\n",
    "print(txt)\n",
    "#Braces {red:^7}, {green:^7}, and, {blue:^7} are three placeholders\n",
    "#identified by keywords \n",
    "#{red:^7} reads as\n",
    "#{placeholder_id=red:format_specifier=center-aligned 7 characters width}\n",
    "#{green:^7} reads as\n",
    "#{placeholder_id=green:format_specifier=center-aligned 7 characters width}\n",
    "#{blue:^7} reads as\n",
    "#{placeholder_id=blue:format_specifier=center-aligned 7 characters width}\n",
    "#{red:^7} refers to a keyword red and is replaced by 135\n",
    "#{green:^7} refers to a keyword green and is replaced by 206\n",
    "#{blue:^7} refers to a keyword blue and is replaced by 235\n",
    "#Output: RGB values for sky blue color are: 135 , 206 , 235 .\n",
    "s='RGB values for sky blue color\n",
    "are:{red:^7},{green:^7},{blue:^7}.'\n",
    "txt=s.format(red=135,green=206,blue=235)\n",
    "print(txt)\n",
    "#Braces {red:*^7}, {green:*^7}, and, {blue:*^7} are three placeholders\n",
    "#identified by keywords \n",
    "#{red:*^7} reads as\n",
    "#{placeholder_id=red:format_specifier=center-aligned 7 characters/* width}\n",
    "#{green:*^7} reads as\n",
    "#{placeholder_id=green:format_specifier=center-aligned 7 characters/* width}\n",
    "#{blue:*^7} reads as\n",
    "#{placeholder_id=blue:format_specifier=center-aligned 7 characters/* width}\n",
    "#{red:*^7} refers to a keyword red and is replaced by 135\n",
    "#{green:*^7} refers to a keyword green and is replaced by 206\n",
    "#{blue:*^7} refers to a keyword blue and is replaced by 235\n",
    "#Output: RGB values for sky blue color\n",
    "are:**135**,**206**,**235**.\n",
    "s='RGB values for sky blue color\n",
    "are:{red:*^7},{green:*^7},{blue:*^7}.'\n",
    "txt=s.format(red=135,green=206,blue=235)\n",
    "print(txt)\n",
    "#Braces {red:7d}, {green:7d}, and, {blue:7d} are three placeholders\n",
    "#identified by keywords \n",
    "#{red:7d} reads as\n",
    "#{placeholder_id=red:format_specifier=right-aligned 7 character digits}\n",
    "#{green:7d} reads as\n",
    "#{placeholder_id=green:format_specifier=right-aligned 7 character digits}\n",
    "#{blue:7d} reads as\n",
    "#{placeholder_id=blue:format_specifier=right-aligned 7 character digits}\n",
    "#{red:7d} refers to a keyword red and is replaced by 135\n",
    "#{green:7d} refers to a keyword green and is replaced by 206\n",
    "#{blue:7d} refers to a keyword blue and is replaced by 235\n",
    "#Output: RGB values for sky blue color are: 135, 206, 235.\n",
    "s='RGB values for sky blue color\n",
    "are:{red:7d},{green:7d},{blue:7d}.'\n",
    "txt=s.format(red=135,green=206,blue=235)\n",
    "print(txt)\n",
    "#Braces {number:.2e} is a placeholder identified by a keyword \n",
    "#{number:.2e} reads as\n",
    "#{placeholder_id=number:format_specifier=2 digits decimal scientific number}\n",
    "#{number:.2e} refers to a keyword number and is replaced by a=123000\n",
    "#Output: 1.23e+05 123000.0\n",
    "a=123000\n",
    "s='{number:.2e}'\n",
    "txt=s.format(number=a)\n",
    "b=float(txt)\n",
    "print(txt,b)\n",
    "#Braces {:d\\n} is a placeholder identified by a keyword \n",
    "#Specifier \\n interprets as a new-line\n",
    "a=[1000,2000,3000,4000]\n",
    "s='{:d}\\n {:d}\\n {:d}\\n {:d}\\n'\n",
    "txt=s.format(*a)\n",
    "print(txt)\n"
   ]
  },
  {
   "cell_type": "markdown",
   "id": "66521c33",
   "metadata": {},
   "source": [
    "## 2.11 The range() Function\n",
    "\n",
    "The built-in range() function generates an evenly spaced sequence of\n",
    "integers between a start integer and a stop integer with an interval of\n",
    "a given step. A resulted sequence includes a start value but does not\n",
    "include a stop value. Here is a general syntax shows how to use the\n",
    "range() function:"
   ]
  },
  {
   "cell_type": "code",
   "execution_count": null,
   "id": "8a233da7",
   "metadata": {},
   "outputs": [],
   "source": [
    "range(start, stop[, step])"
   ]
  },
  {
   "cell_type": "markdown",
   "id": "0a09a43f",
   "metadata": {},
   "source": [
    "The start defines a starting number in a sequence. The stop defines a\n",
    "point that a sequence is generated up to that point. Note that, the stop\n",
    "itself is not included in a sequence. The step defines an interval\n",
    "between every two consecutive numbers in a sequence. If only a stop\n",
    "value is defined, then start is considered as start=0 and step is\n",
    "considered as step=1. Similarly, if only start and stop values are\n",
    "defined, then by default, step is considered as step=1. Here are\n",
    "different forms that the range() function can be used:\n",
    "\n",
    "|     |                               |     |                 |\n",
    "|-----|-------------------------------|-----|-----------------|\n",
    "|     | The range() function syntaxes |     |                 |\n",
    "|     | Syntax                        |     | Default         |\n",
    "|     | range(stop)                   |     | start=0, step=1 |\n",
    "|     | range(start, stop)            |     | step=1          |\n",
    "|     | range(start, stop, step)      |     |                 |\n",
    "\n",
    "Here are some notes to consider when using the range() function:\n",
    "\n",
    "-   All start, stop, and step values should be an integer.\n",
    "-   Values for start and stop can be positive, zero, and negative. A\n",
    "    step value can be positive and negative, but not zero.\n",
    "-   A returned sequence from the range() function does not contain a\n",
    "    stop value.\n",
    "-   The start and step are optional and their default values are start=0\n",
    "    and step=1.\n",
    "\n",
    "Here is an example of the range() function with a stop value. In this\n",
    "example, we generate integers from 0 to 9. Note that, integer 10 is not\n",
    "included."
   ]
  },
  {
   "cell_type": "code",
   "execution_count": null,
   "id": "52d170b2",
   "metadata": {},
   "outputs": [],
   "source": [
    "#The range() function with a stop argument\n",
    "#Output: [0, 1, 2, 3, 4, 5, 6, 7, 8, 9]\n",
    "print(list(range(10)))"
   ]
  },
  {
   "cell_type": "markdown",
   "id": "eaab76ba",
   "metadata": {},
   "source": [
    "Here is an example of the range() function with start and stop values.\n",
    "In this example, we generate integers from 1 to 9."
   ]
  },
  {
   "cell_type": "code",
   "execution_count": null,
   "id": "5c944f2a",
   "metadata": {},
   "outputs": [],
   "source": [
    "#The range() function with start and stop arguments\n",
    "#Output: [1, 2, 3, 4, 5, 6, 7, 8, 9]\n",
    "print(list(range(1,10)))"
   ]
  },
  {
   "cell_type": "markdown",
   "id": "f929a815",
   "metadata": {},
   "source": [
    "Here is an example of the range() function with start, stop, and step\n",
    "values. In this example, we generate integers from 1 to 9 with step 2."
   ]
  },
  {
   "cell_type": "code",
   "execution_count": null,
   "id": "d7d932cd",
   "metadata": {},
   "outputs": [],
   "source": [
    "#The range() function with start, stop, and step arguments\n",
    "#Output: [1, 3, 5, 7, 9]\n",
    "print(list(range(1,10,2)))"
   ]
  },
  {
   "cell_type": "markdown",
   "id": "c7e1fd6d",
   "metadata": {},
   "source": [
    "The range() function can be used to generate negative integers as well.\n",
    "Both negative and positive step values can be used when negative\n",
    "integers are generated. Here is an example of the range() function with\n",
    "negative start, stop, and step values. In this example, we generate\n",
    "integers from -1 to -9 with step -2."
   ]
  },
  {
   "cell_type": "code",
   "execution_count": null,
   "id": "225b278d",
   "metadata": {},
   "outputs": [],
   "source": [
    "#The range() function with negative start, stop, and step arguments\n",
    "#Output: [-1, -3, -5, -7, -9]\n",
    "print(list(range(-1,-10,-2)))"
   ]
  },
  {
   "cell_type": "markdown",
   "id": "0f797561",
   "metadata": {},
   "source": [
    "Similarly, the range() function can be used to generate a sequence of\n",
    "numbers contained both negative and positive integers. Again, both\n",
    "negative and positive step values can be used. Here is an example of the\n",
    "range() function to generate negative, zero, and positive values. In\n",
    "this example, we generate integers from -10 to 8 with step 2."
   ]
  },
  {
   "cell_type": "code",
   "execution_count": null,
   "id": "1049cc32",
   "metadata": {},
   "outputs": [],
   "source": [
    "#The range() function with negative, zero, and positive outcomes\n",
    "#Output: [-10, -8, -6, -4, -2, 0, 2, 4, 6, 8]\n",
    "print(list(range(-10,10,2)))"
   ]
  },
  {
   "cell_type": "markdown",
   "id": "d12a0a45",
   "metadata": {},
   "source": [
    "## 2.12 The if Statement\n",
    "\n",
    "One of the most well-known and widely-used statements in Python is the\n",
    "if statement. The if statement is used to check given conditions before\n",
    "running (executing) a part of the code that is embedded inside the if\n",
    "statement. This embedded code is known as a body of if statement. If a\n",
    "given conditional expression returns the True value, then a code within\n",
    "a body of if statement is executed. Otherwise, if a conditional\n",
    "expression returns the False value, a code within a body of if statement\n",
    "is ignored. Here is a general syntax shows how to use an in-line if\n",
    "statement:"
   ]
  },
  {
   "cell_type": "code",
   "execution_count": null,
   "id": "ecb6f6c2",
   "metadata": {},
   "outputs": [],
   "source": [
    "if conditional expression: body of if"
   ]
  },
  {
   "cell_type": "markdown",
   "id": "6013ac45",
   "metadata": {},
   "source": [
    "Pay attention to a colon, : , after a conditional expression. If this\n",
    "colon is missing, it causes an error. Here is an example of using an\n",
    "in-line form of if statement in Python. In this example, at first, a\n",
    "variable a is set to 0. Then an expression a\\<0.5 is evaluated, and if\n",
    "it is True, a string “a is smaller than 0.5” is printed."
   ]
  },
  {
   "cell_type": "code",
   "execution_count": null,
   "id": "110c4def",
   "metadata": {},
   "outputs": [],
   "source": [
    "#An in-line if statement\n",
    "a=0\n",
    "if a<0.5: print('a is smaller than 0.5')"
   ]
  },
  {
   "cell_type": "markdown",
   "id": "a65ae3b8",
   "metadata": {},
   "source": [
    "It is more common to write the if statement in multiple lines rather\n",
    "than in one line. Here is a general syntax shows how to use the if\n",
    "statement:"
   ]
  },
  {
   "cell_type": "code",
   "execution_count": null,
   "id": "dfff7dbc",
   "metadata": {},
   "outputs": [],
   "source": [
    "if conditional expression:\n",
    "    body of if"
   ]
  },
  {
   "cell_type": "markdown",
   "id": "759b3191",
   "metadata": {},
   "source": [
    "Note that, for cases that the if statement is written in multiple lines,\n",
    "a body of if statement should be indented. In such cases, Python\n",
    "considers an indented part of the code that comes right after the if\n",
    "statement as a body of that if statement. Pay attention to a colon, : ,\n",
    "at the end of the if statement line. An indented body of if starts after\n",
    "that colon. If a colon is missing, it causes an error. Here is an\n",
    "example of using the if statement in Python. In this example, we\n",
    "re-consider a previous example, but this time, we use a multiple lines\n",
    "if statement."
   ]
  },
  {
   "cell_type": "code",
   "execution_count": null,
   "id": "d71c246c",
   "metadata": {},
   "outputs": [],
   "source": [
    "#A simple if statement\n",
    "a=0\n",
    "if a<0.5:\n",
    "    print('a is smaller than 0.5')"
   ]
  },
  {
   "cell_type": "markdown",
   "id": "11a48899",
   "metadata": {},
   "source": [
    "Here is another example of using the if statement in Python. In this\n",
    "example, we use the random module to generate a random number. One of\n",
    "the functions in the random module is also called random. This function\n",
    "is used as random.random() and generates a random floating point number\n",
    "in a range \\[0.0, 1.0). Note that, 1.0 is not included in a range. Here,\n",
    "at first, we used random.random() to assign a random number between 0\n",
    "and 1 to a variable a. Then we use the if statement to evaluate an\n",
    "expression a\\<0.5."
   ]
  },
  {
   "cell_type": "code",
   "execution_count": null,
   "id": "8af9f1c2",
   "metadata": {},
   "outputs": [],
   "source": [
    "#Use if statement to check a value of a\n",
    "import random\n",
    "a=random.random() #Return a random number between 0 and 1\n",
    "if a<0.5:\n",
    "    print('a is smaller than 0.5')\n",
    "    print(a)"
   ]
  },
  {
   "cell_type": "markdown",
   "id": "96634bbb",
   "metadata": {},
   "source": [
    "In the if statement, a combination of several conditional expressions\n",
    "can be used together if needed. In cases that a combination of\n",
    "conditional expressions is used, it is recommended to put each\n",
    "conditional expression in a separate set of parentheses to avoid\n",
    "mistakes. Here is an example of using multiple conditional expressions\n",
    "with the Boolean operator in the if statement:"
   ]
  },
  {
   "cell_type": "code",
   "execution_count": null,
   "id": "203650eb",
   "metadata": {},
   "outputs": [],
   "source": [
    "#Use multiple expressions with Boolean operator to check a value of a\n",
    "import random\n",
    "a=random.random() #A random number between 0 and 1\n",
    "if ((a<0.5) and (a!=0.5)):\n",
    "    print('a is smaller than 0.5')\n",
    "    print(a)"
   ]
  },
  {
   "cell_type": "markdown",
   "id": "18b986d9",
   "metadata": {},
   "source": [
    "The if statement can be combined with an optional else statement. Each\n",
    "if statement can only have one else statement, which always comes after\n",
    "the if statement. In cases that the if-else statement is used, at first,\n",
    "the if statement is evaluated. In case that the if statement is True, a\n",
    "body of if statement is executed, and the else statement is ignored. It\n",
    "means that, if a conditional expression in the if statement returns a\n",
    "True value, then the else statement is ignored. However, in case that\n",
    "the if statement is not True, a body of else statement is executed. Here\n",
    "is a general syntax shows how to use the if-else statement:"
   ]
  },
  {
   "cell_type": "code",
   "execution_count": null,
   "id": "37ad3676",
   "metadata": {},
   "outputs": [],
   "source": [
    "if conditional expression1:\n",
    "    body of if\n",
    "else:\n",
    "    body of else"
   ]
  },
  {
   "cell_type": "markdown",
   "id": "5758f7bf",
   "metadata": {},
   "source": [
    "Note that, a body of if and a body of else should be indented. Here is\n",
    "an example of using the if-else statement in Python:"
   ]
  },
  {
   "cell_type": "code",
   "execution_count": null,
   "id": "9cf3d5b3",
   "metadata": {},
   "outputs": [],
   "source": [
    "#Use if-else to check a value of a\n",
    "import random\n",
    "a=random.random() #A random number between 0 and 1\n",
    "if a<0.5:\n",
    "    print('a is smaller than 0.5')\n",
    "    print(a)\n",
    "else:\n",
    "    print('a is equal or larger than 0.5')\n",
    "    print(a)"
   ]
  },
  {
   "cell_type": "markdown",
   "id": "19fa2852",
   "metadata": {},
   "source": [
    "The if-else statement also can be presented as a ternary operator. In\n",
    "such cases, both if and else statements are used in the same line. Here\n",
    "is a general syntax shows how to use the ternary operator:"
   ]
  },
  {
   "cell_type": "code",
   "execution_count": null,
   "id": "f29b3729",
   "metadata": {},
   "outputs": [],
   "source": [
    "[executed on True] if [conditional expression] else [executed on False]"
   ]
  },
  {
   "cell_type": "markdown",
   "id": "04cb964b",
   "metadata": {},
   "source": [
    "Here is an example of using a ternary operator in Python:"
   ]
  },
  {
   "cell_type": "code",
   "execution_count": null,
   "id": "481dde66",
   "metadata": {},
   "outputs": [],
   "source": [
    "#Use a ternary operator to check a value of a\n",
    "import random\n",
    "a=random.random() #A random number between 0 and 1\n",
    "print('a is smaller than 0.5') if a<0.5 else print('a is equal or larger than 0.5')"
   ]
  },
  {
   "cell_type": "markdown",
   "id": "01f8177b",
   "metadata": {},
   "source": [
    "Here is another example of using a ternary operator in Python. In this\n",
    "example, we generate two random numbers, and then, we use a ternary\n",
    "operator to return a minimum of these two numbers."
   ]
  },
  {
   "cell_type": "code",
   "execution_count": null,
   "id": "08e02744",
   "metadata": {},
   "outputs": [],
   "source": [
    "#Use a ternary operator to find minimum of a and b\n",
    "import random\n",
    "a=random.random() #A random number between 0 and 1\n",
    "b=random.random() #A random number between 0 and 1\n",
    "minimum=a if a<b else b "
   ]
  },
  {
   "cell_type": "markdown",
   "id": "f99135bf",
   "metadata": {},
   "source": [
    "Similar to the if-else statement, the if statement can also be combined\n",
    "with optional elif and else statements. In general, the if statement can\n",
    "be combined with one, both or none of the elif and else statements. The\n",
    "elif statement, which is a short form for else if, allows to check for\n",
    "more conditional expressions after the if statement.\n",
    "\n",
    "Each if statement can have as many elif statements as required. Remember\n",
    "that each if statement can only have one else statement. The elif\n",
    "statements always come after the if statement and before the else\n",
    "statement.\n",
    "\n",
    "In cases that the if-elif statement is used, at first, the if statement\n",
    "is evaluated. In case that the if statement is True, a body of if\n",
    "statement is executed, and all elif statements are ignored. It means\n",
    "that, if a conditional expression in the if statement returns a True\n",
    "value, then all elif statements are ignored. However, in case that the\n",
    "if statement is not True, then the first elif statement is evaluated.\n",
    "Now, if this elif statement returns a True value, then a body of this\n",
    "elif statement is executed and the rest of elif statements are ignored.\n",
    "If this elif statement returns a False value, then the next elif\n",
    "statement is evaluated, and it continues until one elif statement\n",
    "returns a True value. If none of the if and elif statements returns a\n",
    "True value, then all of them are ignored. Note that, if a True value is\n",
    "returned by any of the if or elif statements, the rest of the elif\n",
    "statements are ignored.\n",
    "\n",
    "Similar steps are used to evaluate the if-elif-else statement. At first,\n",
    "the if statement is evaluated, and if it is False, then elif statements\n",
    "are evaluated one by one in an order they appear in a code. Finally, if\n",
    "all previous statements are False, then the else statement is executed.\n",
    "Similar to the if-elif statement, if a True value is returned by any of\n",
    "the if or elif statements, the rest of the elif statements and the else\n",
    "statement are ignored. Here is a general syntax shows how to use the\n",
    "if-elif-else statement:"
   ]
  },
  {
   "cell_type": "code",
   "execution_count": null,
   "id": "4baec54a",
   "metadata": {},
   "outputs": [],
   "source": [
    "if conditional expression1:\n",
    "    body of if\n",
    "elif conditional expression2:\n",
    "    body of elif\n",
    "elif conditional expression3:\n",
    "    body of elif\n",
    "...\n",
    "else:\n",
    "    body of else"
   ]
  },
  {
   "cell_type": "markdown",
   "id": "955a99e3",
   "metadata": {},
   "source": [
    "Note that, a body of if, body of elif, and body of else should be\n",
    "indented. Here is an example of using the if-elif statement in Python:"
   ]
  },
  {
   "cell_type": "code",
   "execution_count": null,
   "id": "8d90286a",
   "metadata": {},
   "outputs": [],
   "source": [
    "#Use if-elif to check a value of a\n",
    "import random\n",
    "a=random.random() #A random number between 0 and 1\n",
    "if a<0.5:\n",
    "    print('a is smaller than 0.5')\n",
    "    print(a)\n",
    "elif a>0.5:\n",
    "    print('a is larger than 0.5')\n",
    "    print(a)\n",
    "elif a==0.5:\n",
    "    print('a is equal to 0.5')\n",
    "    print(a)"
   ]
  },
  {
   "cell_type": "markdown",
   "id": "c9cccd49",
   "metadata": {},
   "source": [
    "Here is an example of using the if-elif-else statement in Python:"
   ]
  },
  {
   "cell_type": "code",
   "execution_count": null,
   "id": "bb087746",
   "metadata": {},
   "outputs": [],
   "source": [
    "#Use if-elif-else to check a value of a\n",
    "import random\n",
    "a=random.random() #A random number between 0 and 1\n",
    "if a<0.5:\n",
    "    print('a is smaller than 0.5')\n",
    "    print(a)\n",
    "elif a>0.5:\n",
    "    print('a is larger than 0.5')\n",
    "    print(a)\n",
    "else:\n",
    "    print('a is equal to 0.5')\n",
    "    print(a)"
   ]
  },
  {
   "cell_type": "markdown",
   "id": "4e443fc6",
   "metadata": {},
   "source": [
    "The if statement can be used in a nested form as well. A nested if\n",
    "statement is a series of if statements, where each statement is inside\n",
    "another statement. Here is a general syntax of the nested if statement\n",
    "containing 3 statements:"
   ]
  },
  {
   "cell_type": "code",
   "execution_count": null,
   "id": "e8a5f4ec",
   "metadata": {},
   "outputs": [],
   "source": [
    "if conditional expression1:\n",
    "    body of if 1\n",
    " \n",
    "    if conditional expression2:\n",
    "        body of if 2\n",
    " \n",
    "        if conditional expression3:\n",
    "            body of if 3"
   ]
  },
  {
   "cell_type": "markdown",
   "id": "a03d1427",
   "metadata": {},
   "source": [
    "Pay attention to how a body of each if statement is indented respect to\n",
    "the previous if statement. These indentations mark and identify a body\n",
    "of each if statement for Python. In a nested if statement, each if\n",
    "statement can have optional elif and else statements as well. Here is an\n",
    "example of the nested if statement. In this example, we use the input()\n",
    "function to request an input between 0 and 1 from a user. Then, we use\n",
    "the nested if statement to define a range of the input value."
   ]
  },
  {
   "cell_type": "code",
   "execution_count": null,
   "id": "47069272",
   "metadata": {},
   "outputs": [],
   "source": [
    "#A nested if statement\n",
    "a=input('Enter a number between 0 and 1: ') #Read a number #between 0 and 1\n",
    "a=float(a) #Converts a to floating point\n",
    "if a<0.5:\n",
    "    if a==0:\n",
    "        print('a is equal to 0')\n",
    "    else:\n",
    "        print('a is smaller than 0.5')\n",
    "elif a>0.5:\n",
    "    if a==1:\n",
    "        print('a is equal to 1')\n",
    "    else:\n",
    "        print('a is larger than 0.5')\n",
    "else:\n",
    "    print('a is equal to 0.5')"
   ]
  },
  {
   "cell_type": "markdown",
   "id": "d09fe890",
   "metadata": {},
   "source": [
    "The if statement also may be used to compare character arrays (strings).\n",
    "Here is an example of how to compare two strings in Python:"
   ]
  },
  {
   "cell_type": "code",
   "execution_count": null,
   "id": "cf52e0bb",
   "metadata": {},
   "outputs": [],
   "source": [
    "#String comparison\n",
    "a=input('Enter yes or no: ') #Read a string yes or no\n",
    "if a=='yes':\n",
    "    print('a is equal to yes')\n",
    "else:\n",
    "    print('a is not equal to yes')"
   ]
  },
  {
   "cell_type": "markdown",
   "id": "2166b9dc",
   "metadata": {},
   "source": [
    "## 2.13 The for Statement\n",
    "\n",
    "During a process of code developments, there might be situations that a\n",
    "set of commands (a block of code) needs to be re-executed repeatedly for\n",
    "a certain number of times. In such cases, a loop is used to iterate\n",
    "these commands for a given number of times. One favorite method to\n",
    "create a loop, is to build a loop by using the for statement.\n",
    "\n",
    "The for statement runs (executes) a part of the code that is embedded\n",
    "inside the for statement for a defined number of times. The embedded\n",
    "code inside the for statement is known as a body of for statement. Here\n",
    "is a general syntax shows how to use the for statement (for loop):"
   ]
  },
  {
   "cell_type": "code",
   "execution_count": null,
   "id": "1bb87536",
   "metadata": {},
   "outputs": [],
   "source": [
    "for item in sequence:\n",
    "    body of for "
   ]
  },
  {
   "cell_type": "markdown",
   "id": "819c3958",
   "metadata": {},
   "source": [
    "In Python, a body of for statement should be indented. Python considers\n",
    "an indented part of the code that comes right after the for statement as\n",
    "a body of that for statement. Pay attention to a colon, : , at the end\n",
    "of the for statement line. An indented body of for starts after that\n",
    "colon. If a colon is missing, it causes an error.\n",
    "\n",
    "The for statement iterates over the elements of a sequence. A total\n",
    "number of the times that the for statement is looped is equal to a total\n",
    "number of elements that are inside a sequence used in the for statement.\n",
    "\n",
    "An item in the for statement behaves like a variable. In each iteration,\n",
    "the item receives a content of an element in a sequence. In other words,\n",
    "a content of the item changes in each iteration of the for loop and\n",
    "becomes equal to a content of the corresponding element inside a\n",
    "sequence. It means that, in the first iteration, an item becomes equal\n",
    "to the first element in a sequence. In the second iteration, an item\n",
    "becomes equal to the second element in a sequence. This continues until\n",
    "the last iteration, which an item becomes equal to the last element in a\n",
    "sequence.\n",
    "\n",
    "The item in the for statement can have any name, such as a letter or a\n",
    "word. If it is intended to reference or use the item in a loop, the same\n",
    "exact name of the item should be used inside a body of for. Remember, we\n",
    "should never change a value of the item within a body of for statement.\n",
    "For example, we should not assign a new value to an item while a loop is\n",
    "iterating. The most common names for an item are: i, j, k, m, n. In\n",
    "cases that there are complex numbers inside a code, it is suggested to\n",
    "use j as a counter with caution to avoid an item being mistaken with an\n",
    "imaginary unit in a complex number.\n",
    "\n",
    "Any sequence such as a string, tuple or list can be used in the for\n",
    "statement. In cases that working with arrays are intended, the range()\n",
    "function is commonly used as a sequence. This is particularly helpful if\n",
    "the range() function is defined in such a way that allows item to become\n",
    "equal to a loop iteration counter. In other words, by choosing a proper\n",
    "range() function, a value of an item becomes equal to a number of times\n",
    "that a loop has been iterated so far. This helps to use an item as an\n",
    "array index to address different elements of an array.\n",
    "\n",
    "Here is an example of using the range() function as a sequence in the\n",
    "for statement. Assume there is a list a=\\[10,11,12,13,14\\]. By using\n",
    "range(0,5,1) as a sequence and i as an item, the for statement is used\n",
    "to raise each element of this array to the power of two."
   ]
  },
  {
   "cell_type": "code",
   "execution_count": null,
   "id": "6cfbaa56",
   "metadata": {},
   "outputs": [],
   "source": [
    "#The for statement with the range() function as a sequence\n",
    "a=[10,11,12,13,14]\n",
    "for i in range(0,5,1):\n",
    "    b=a[i]**2\n",
    "    print(b)"
   ]
  },
  {
   "cell_type": "markdown",
   "id": "ff3c56a7",
   "metadata": {},
   "source": [
    "Consider a previous example again. This time we use range(0,5,2) as a\n",
    "sequence and i as an item to raise the first, third, and fifth elements\n",
    "of this array to the power of two."
   ]
  },
  {
   "cell_type": "code",
   "execution_count": null,
   "id": "664f75e6",
   "metadata": {},
   "outputs": [],
   "source": [
    "#The for statement with the range() function as a sequence\n",
    "a=[10,11,12,13,14]\n",
    "for i in range(0,5,2):\n",
    "    b=a[i]**2\n",
    "    print(b)"
   ]
  },
  {
   "cell_type": "markdown",
   "id": "cf92a951",
   "metadata": {},
   "source": [
    "Here is an example of using a numeric list number=\\[1,2,3,4,5\\] as a\n",
    "sequence and num as an item in the for statement. In this example, the\n",
    "for statement is used to print a value of num in each iteration."
   ]
  },
  {
   "cell_type": "code",
   "execution_count": null,
   "id": "9a912dff",
   "metadata": {},
   "outputs": [],
   "source": [
    "#The for statement with a numeric list as a sequence\n",
    "number=[1,2,3,4,5]\n",
    "for num in number:\n",
    "    print(num)"
   ]
  },
  {
   "cell_type": "markdown",
   "id": "51734fd1",
   "metadata": {},
   "source": [
    "Here is an example of using a string list\n",
    "word=\\['one','two','three','four','five'\\] as a sequence and w as an\n",
    "item in the for statement:"
   ]
  },
  {
   "cell_type": "code",
   "execution_count": null,
   "id": "bdd1173b",
   "metadata": {},
   "outputs": [],
   "source": [
    "#The for statement with a string list as a sequence\n",
    "word=['one','two','three','four','five']\n",
    "for w in word:\n",
    "    print(w)"
   ]
  },
  {
   "cell_type": "markdown",
   "id": "ed6b4704",
   "metadata": {},
   "source": [
    "Here is an example of using a string txt='Python' as a sequence and x as\n",
    "an item in the for statement:"
   ]
  },
  {
   "cell_type": "code",
   "execution_count": null,
   "id": "9144b2f4",
   "metadata": {},
   "outputs": [],
   "source": [
    "#The for statement with a string as a sequence\n",
    "txt='Python'\n",
    "for x in txt:\n",
    "    print(x)"
   ]
  },
  {
   "cell_type": "markdown",
   "id": "02bd4bb0",
   "metadata": {},
   "source": [
    "The for statement can be used in a nested form as well. A nested for\n",
    "loop is a series of for statements, where each loop is inside another\n",
    "loop. Here is a general syntax of the nested for statement containing 3\n",
    "loops:"
   ]
  },
  {
   "cell_type": "code",
   "execution_count": null,
   "id": "e49116f2",
   "metadata": {},
   "outputs": [],
   "source": [
    "for item1 in sequence1:\n",
    "    body of for 1\n",
    " \n",
    "    for item2 in sequence2:\n",
    "        body of for 2\n",
    " \n",
    "        for item3 in sequence3:\n",
    "            body of for 3"
   ]
  },
  {
   "cell_type": "markdown",
   "id": "f5ead080",
   "metadata": {},
   "source": [
    "Pay attention to how a body of each for statement is indented respect to\n",
    "the previous for statement. These indentations mark a body of each for\n",
    "statement, which identify each loop for Python.\n",
    "\n",
    "A nested for loop can be very helpful if working with multidimensional\n",
    "arrays are intended. This is particularly helpful if sequences are\n",
    "defined by the range() function in such a way that allows items to\n",
    "become equal to nested loop iteration counters. In other words, by\n",
    "choosing a proper range() function, a value of an item becomes equal to\n",
    "a number of times that a corresponding loop to that item has been\n",
    "iterated so far. This helps to use items as array indexes to address\n",
    "different elements of an array.\n",
    "\n",
    "Here is an example of the nested for statement. Assume we have two lists\n",
    "of coordinate data. The first one contains six x coordinates as\n",
    "x=\\[0,1,2,5,7,10\\] and the second one contains six y coordinates as\n",
    "y=\\[3,4,5,6,8,9\\]. Now, consider we want to find all pairs of (x,y) that\n",
    "their distances from an origin (0,0) are equal or larger than 10.\n",
    "Remember that a distance of a point (x,y) from an origin (Euclidean\n",
    "norm) is calculated as $$\\sqrt{x^{2} + y^{2}}$$. To find all pairs with\n",
    "a distance equal or larger than 10, we use a nested for statement. To\n",
    "print the results, the print() function is used as print('({},{}),\n",
    "distance={:.2f}\\\\n'.format(x\\[i\\],y\\[j\\],dist)). This displays the\n",
    "results in a form of (x,y), distance=XX.XX."
   ]
  },
  {
   "cell_type": "code",
   "execution_count": null,
   "id": "a9a1a80c",
   "metadata": {},
   "outputs": [],
   "source": [
    "#A nested for statement\n",
    "import math\n",
    "x=[0,1,2,5,7,10]\n",
    "y=[3,4,5,6,8,9]\n",
    "for i in range(0,6,1):\n",
    "    for j in range(0,6,1):\n",
    "        dist=math.sqrt(x[i]**2+y[j]**2) #Distance\n",
    "        if dist>=10:\n",
    "            print('({},{}), distance={:.2f}\\n'.format(x[i],y[j],dist))"
   ]
  },
  {
   "cell_type": "markdown",
   "id": "97d3fb31",
   "metadata": {},
   "source": [
    "The for statement can have the else statement, which comes after a body\n",
    "of for statement. If the else statement is included in the for\n",
    "statement, a body of else is executed after the for loop finishes all of\n",
    "its iterations.\n",
    "\n",
    "The break and continue keywords can be used in a body of for statement.\n",
    "The break keyword stops a loop and breaks out of the for loop. The\n",
    "continue keyword stops a current iteration of a loop as ignoring a rest\n",
    "of commands in a loop and continues with the next iteration.\n",
    "\n",
    "## 2.14 The while Statement\n",
    "\n",
    "The while statement is a loop that is used to re-execute a set of\n",
    "commands (a block of code) repeatedly as long as a given conditional\n",
    "expression is True. The while statement consists of a conditional\n",
    "expression and a body of while statement. A part of the code that is\n",
    "embedded inside the while statement is known as a body of while\n",
    "statement. At each iteration, first, the while statement checks a\n",
    "conditional expression. If a conditional expression returns a True\n",
    "value, then the while statement runs (executes) a body of while\n",
    "statement. After running a body of the while statement, it checks a\n",
    "conditional expression again. If it is True, it re-runs the loop one\n",
    "more time. This procedure continues until a conditional expression\n",
    "becomes False. At any iteration, including the first one, if a\n",
    "conditional expression returns False, the while statement exits. Here is\n",
    "a general syntax shows how to use the while statement (while loop):"
   ]
  },
  {
   "cell_type": "code",
   "execution_count": null,
   "id": "308d8764",
   "metadata": {},
   "outputs": [],
   "source": [
    "while conditional expression:\n",
    "    body of while"
   ]
  },
  {
   "cell_type": "markdown",
   "id": "fe1fddba",
   "metadata": {},
   "source": [
    "In Python, a body of while statement should be indented. Python\n",
    "considers an indented part of the code that comes right after the while\n",
    "statement as a body of that while statement. Pay attention to a colon, :\n",
    ", at the end of the while statement line. An indented body of while\n",
    "starts after that colon. If a colon is missing, it causes an error.\n",
    "\n",
    "When we use the while statement, we have to make sure that a conditional\n",
    "expression becomes False at some point. The reason is that, if a\n",
    "conditional expression is given in a way that it never becomes False,\n",
    "then the while statement goes into infinite loop iterations and never\n",
    "stops.\n",
    "\n",
    "Here is an example of using the while statement in Python. In this\n",
    "example, the while statement is used to raise elements of a list\n",
    "a=\\[0,1,2,3,4,5\\] to the power of two. To do that, at first, a variable\n",
    "n is used as an element index and set to 0 as n=0. Then, a while loop is\n",
    "used to check a value of n. If a value of n is less than a length of a\n",
    "list, then an element a\\[n\\] is raised to the power of two and stored in\n",
    "the variable b. After that, a value of b is printed and a value of n is\n",
    "increased by one. This loop is repeated until a variable n is no longer\n",
    "smaller than a length of a list. To find a length of a list the len()\n",
    "function is used. In this case, a length of the list a (a number of\n",
    "elements in a) is equal to 6."
   ]
  },
  {
   "cell_type": "code",
   "execution_count": null,
   "id": "109422fe",
   "metadata": {},
   "outputs": [],
   "source": [
    "#The while statement\n",
    "a=[0,1,2,3,4,5]\n",
    "n=0\n",
    "while n<len(a):\n",
    "    b=a[n]**2 #Raise a[n] to the power of 2\n",
    "    print(b)\n",
    "    n=n+1"
   ]
  },
  {
   "cell_type": "markdown",
   "id": "71106575",
   "metadata": {},
   "source": [
    "The while statement can be used in a nested form as well. A nested while\n",
    "loop is a series of while statements, where each loop is inside another\n",
    "loop. Here is a general syntax of the nested while statement containing\n",
    "3 loops:"
   ]
  },
  {
   "cell_type": "code",
   "execution_count": null,
   "id": "f350bd79",
   "metadata": {},
   "outputs": [],
   "source": [
    "while conditional expression1:\n",
    "    body of while 1\n",
    "\n",
    "    while conditional expression2:\n",
    "        body of while 2\n",
    "\n",
    "        while conditional expression3:\n",
    "            body of while 3"
   ]
  },
  {
   "cell_type": "markdown",
   "id": "19182102",
   "metadata": {},
   "source": [
    "Pay attention to how a body of each while statement is indented respect\n",
    "to the previous while statement. These indentations mark a body of each\n",
    "while statement, which identify each loop for Python.\n",
    "\n",
    "The while statement can have the else statement, which comes after a\n",
    "body of while statement. If the else statement is included in the while\n",
    "statement, a body of else is executed when a conditional expression in\n",
    "the while statement becomes False.\n",
    "\n",
    "The break and continue keywords can be used inside the while statement.\n",
    "The break keyword stops a loop and breaks out of the while loop. The\n",
    "continue keyword stops a current iteration of a loop as ignoring a rest\n",
    "of commands in a loop and continues with the next iteration.\n",
    "\n",
    "## 2.15 Define Function\n",
    "\n",
    "During a process of a code development, there might be situations that a\n",
    "set of commands (a block of code) needs to be repeatedly included and\n",
    "reused in a different part of a code. Furthermore, these commands might\n",
    "be required to be used in different codes. In such cases, it is\n",
    "practical to define these commands as a function. Then, every time that\n",
    "these commands are required in a code, instead of copying all the codes\n",
    "related to these commands, a function that contains these commands is\n",
    "called. A function provides a practical and simple way to call a set of\n",
    "commands over and over again, which helps to make a code clean and\n",
    "structured. Here is a general syntax shows how to define a function:"
   ]
  },
  {
   "cell_type": "code",
   "execution_count": null,
   "id": "f4decd5a",
   "metadata": {},
   "outputs": [],
   "source": [
    "def function_name(argument1, argument2, ...):\n",
    "    \"\"\"docstrings\"\"\"\n",
    "    body of function\n",
    "    return variable1, variable2, ..."
   ]
  },
  {
   "cell_type": "markdown",
   "id": "2544b53a",
   "metadata": {},
   "source": [
    "A block of a code that is embedded inside a function is known as a body\n",
    "of function. In Python, a body of function should be indented. Python\n",
    "considers an indented part of the code that comes right after a\n",
    "definition line of the function as a body of that function. Pay\n",
    "attention to a colon, : , at the end of a definition line. An indented\n",
    "body of function starts after that colon. If a colon is missing, it\n",
    "causes an error.\n",
    "\n",
    "A function can have zero or as many as required arguments as inputs.\n",
    "Also, if needed, a function can return a value of any variable used\n",
    "inside that function as an output.\n",
    "\n",
    "In Python, there are two methods to call a function. In the first\n",
    "method, a function is stored within a script file. In this case, a\n",
    "function can be called anywhere afterward in that script file. Here is a\n",
    "general syntax shows how to call a function stored within a script file:"
   ]
  },
  {
   "cell_type": "code",
   "execution_count": null,
   "id": "6ee65a01",
   "metadata": {},
   "outputs": [],
   "source": [
    "variable1, variable2, ... = function_name(argument1, argument2, ...)"
   ]
  },
  {
   "cell_type": "markdown",
   "id": "62344fe3",
   "metadata": {},
   "source": [
    "In the second method to call a function, a function is initially saved\n",
    "in a file with a .py extension, and then, it is called in another file\n",
    "or in an interactive shell. A file that contains a function is called a\n",
    "module and may have a different or the same name as a function name. In\n",
    "Python, in simple words, a package is a folder that contains a series of\n",
    "modules and classes, and a module is a file that contains one or more\n",
    "functions. To use a function that is saved in a module file, that module\n",
    "should be imported first. For example, consider a function that is named\n",
    "my_function and is saved in a module my_module.py. Here are examples of\n",
    "how to import this function assuming my_module.py is in a current\n",
    "working directory:"
   ]
  },
  {
   "cell_type": "code",
   "execution_count": null,
   "id": "dab50223",
   "metadata": {},
   "outputs": [],
   "source": [
    "#import a module and use a function, first method\n",
    "import my_module\n",
    "var1, var2, ... = my_module.my_function(arg1, arg2, ...)\n",
    "#import a module and use a function, second method\n",
    "from my_module import my_function\n",
    "var1, var2, ... = my_function(arg1, arg2, ...)"
   ]
  },
  {
   "cell_type": "markdown",
   "id": "0c82e8b5",
   "metadata": {},
   "source": [
    "Remember, to import a module, either a current folder of Python should\n",
    "be the same as a folder that contains a module, or a folder that\n",
    "contains a module should be added to Python search path, otherwise,\n",
    "Python cannot find the module.\n",
    "\n",
    "Here is an example of a function that does not have an input argument\n",
    "and does not return any value. This function is named squared. Every\n",
    "time this function is called, it raises each of 0, 1, 2, 3, and 4 to the\n",
    "power of two and prints the results."
   ]
  },
  {
   "cell_type": "code",
   "execution_count": null,
   "id": "a46749f6",
   "metadata": {},
   "outputs": [],
   "source": [
    "#Define a function to print squared values of 0,1,2,3,4\n",
    "def squared():\n",
    "    for i in range(5):\n",
    "        a=i**2\n",
    "        print(a)"
   ]
  },
  {
   "cell_type": "markdown",
   "id": "d7ed1176",
   "metadata": {},
   "source": [
    "To call this function, simply use its name, squared(), in a code or an\n",
    "interactive shell. Here is an example of how to call this function:"
   ]
  },
  {
   "cell_type": "code",
   "execution_count": null,
   "id": "ec43f179",
   "metadata": {},
   "outputs": [],
   "source": [
    "#Call a function\n",
    "squared()"
   ]
  },
  {
   "cell_type": "markdown",
   "id": "eb14ec7e",
   "metadata": {},
   "source": [
    "Here is another example of defining and using a function. This time, a\n",
    "function gets input arguments and also returns output variables. This\n",
    "function is named circle. It gets a radius of a circle as an input\n",
    "argument and returns an area and a circumference of that circle. In this\n",
    "function, the first output is an area and the second output is a\n",
    "circumference of a circle."
   ]
  },
  {
   "cell_type": "code",
   "execution_count": null,
   "id": "4373b94e",
   "metadata": {},
   "outputs": [],
   "source": [
    "#Define a function to calculate area and circumference of a circle\n",
    "def circle(radius):\n",
    "    import math\n",
    "    area=math.pi*radius**2 #Area of a circle\n",
    "    circ=2*math.pi*radius #Circumference of a circle\n",
    "    return area,circ\n"
   ]
  },
  {
   "cell_type": "markdown",
   "id": "cdbfc966",
   "metadata": {},
   "source": [
    "Here are examples of how to call this function in a code or an\n",
    "interactive shell:"
   ]
  },
  {
   "cell_type": "code",
   "execution_count": null,
   "id": "d069c793",
   "metadata": {},
   "outputs": [],
   "source": [
    "#Call a function for a circle with radius=5\n",
    "#Output: A=78.5398, C=31.4159\n",
    "A,C=circle(radius=5)\n",
    "#Call a function for a circle with radius=5\n",
    "#Output: A=78.5398, C=31.4159\n",
    "radius=5\n",
    "A,C=circle(radius)\n",
    "#Call a function for a circle with radius=5\n",
    "#Output: A=78.5398, C=31.4159\n",
    "A,C=circle(5)\n",
    "#Call a function for a circle with radius=5\n",
    "#Output: A=78.5398, C=31.4159\n",
    "r=5\n",
    "A,C=circle(r)"
   ]
  },
  {
   "cell_type": "markdown",
   "id": "f0667208",
   "metadata": {},
   "source": [
    "When a function is called in a code, the input variables can have any\n",
    "names. It means that, input variables are not required to have the same\n",
    "names as the ones that are used to define a function, although they can\n",
    "be the same. In this example, 4 different methods are used to call a\n",
    "function to calculate an area and a circumference of a circle with a\n",
    "radius of 5. In the first method, a value is assigned directly to an\n",
    "input argument as A,C=circle(radius=5). In the second method, at first,\n",
    "a value of 5 is assigned to a variable radius and then it is used as\n",
    "A,C=circle(radius). In the third method, an integer 5 is used directly\n",
    "in place of an input argument as A,C=circle(5). In the fourth method, at\n",
    "first, a value of 5 is assigned to a variable r and then it is used to\n",
    "in place of an input argument as A,C=circle(r). This example shows how\n",
    "to use any variable or number to replace an input argument.\n",
    "\n",
    "Similarly, when a function is called in a code, the outputs of a\n",
    "function can be assigned to any variable names. It means that, output\n",
    "variables are not required to have the same name as the ones that are\n",
    "used inside a function, although they can be the same. In this example,\n",
    "variable names area and circ are used for an area and a circumference\n",
    "inside the function. However, when a function is called, variable names\n",
    "A and C are used. Python assigns a value of area into A and a value of\n",
    "circ into C.\n",
    "\n",
    "During a course of defining a function, a user can assign default values\n",
    "to any input arguments of that function. If input arguments of a\n",
    "function have default values, then, none, some, or all of these\n",
    "arguments with default values may be excluded when a function is called.\n",
    "In a case that any of the input arguments with default values is not\n",
    "given when a function is called, then its default value is used by a\n",
    "function. One method to exclude default arguments is to exclude them in\n",
    "a reverse order from the last default argument toward the first default\n",
    "argument. In this case, all remaining arguments should be in an exact\n",
    "order that is defined in a function. Another method is to assign values\n",
    "to exact names that are used when a function is defined. In this case,\n",
    "any combination of default and non-default arguments can be used in any\n",
    "order.\n",
    "\n",
    "To explain how to use default arguments when a function is called, let’s\n",
    "consider a function that calculates a surface area and a volume of a\n",
    "rectangular box (cuboid). This function is named box. It gets a length,\n",
    "width, and height of a box as inputs and returns a surface area and a\n",
    "volume of that box. In this example, default values are assigned to all\n",
    "three input arguments and set as length=1, width=1, and height=1. In a\n",
    "case that none of the input arguments are given, a function returns a\n",
    "surface area and a volume of a unit cube."
   ]
  },
  {
   "cell_type": "code",
   "execution_count": null,
   "id": "ffc60e85",
   "metadata": {},
   "outputs": [],
   "source": [
    "#Define a function to calculate surface area and\n",
    "#volume of a rectangular box\n",
    "def box(length=1,width=1,height=1):\n",
    "    area=2*(length*width+length*height+width*height) #Surface area of a box\n",
    "    vol=length*width*height #Volume of a box\n",
    "    return area,vol"
   ]
  },
  {
   "cell_type": "markdown",
   "id": "dc278e50",
   "metadata": {},
   "source": [
    "Here in this function, we chose an order of input arguments as length=1,\n",
    "width=1, height=1. Remember, any other order for these variables may be\n",
    "considered when a function is defined. Now, we show a couple of\n",
    "different ways to call this function when using its default arguments."
   ]
  },
  {
   "cell_type": "code",
   "execution_count": null,
   "id": "342a32d2",
   "metadata": {},
   "outputs": [],
   "source": [
    "#Call a function for a box with length=10, width=5, height=3\n",
    "#Output: A=190, V=150\n",
    "A,V=box(10,5,3)\n",
    "#Call a function for a box with length=10, width=5,\n",
    "height=default\n",
    "#Output: A=130, V=50\n",
    "A,V=box(10,5)\n",
    "#Call a function for a box with\n",
    "#length=10, width=default, height=default\n",
    "#Output: A=42, V=10\n",
    "A,V=box(10)\n",
    "#Call a function for a box\n",
    "#with length=default, width=default, height=default\n",
    "#Output: A=6, V=1\n",
    "A,V=box()\n",
    "#Call a function for a box with length=10, width=default,\n",
    "height=3\n",
    "#Output: A=86, V=30\n",
    "A,V=box(length=10,height=3)\n",
    "#Call a function for a box with length=default, width=default,\n",
    "height=3\n",
    "#Output: A=14, V=3\n",
    "A,V=box(height=3)"
   ]
  },
  {
   "cell_type": "markdown",
   "id": "9a62a2f3",
   "metadata": {},
   "source": [
    "Assigning default values to input arguments of a function is optional.\n",
    "Therefore, during a function definition, a user may assign default\n",
    "values to none, some, or all of the input arguments. In case that only\n",
    "some of the input arguments have default values, all arguments without\n",
    "default values should come first in a function definition line, and then\n",
    "all arguments with default values should follow them. In other words, in\n",
    "a function definition line, all default arguments should follow\n",
    "non-default arguments, and therefore, non-default arguments cannot\n",
    "follow default arguments. It means that, if we only need to define a\n",
    "default value for one argument, that argument should be the last\n",
    "argument in a function argument list. Similarly, if we need to define\n",
    "default values only for two arguments, those two arguments should be the\n",
    "last and the one before the last argument, and so on. Remember, an order\n",
    "of all arguments is defined by a user. The only restriction is that all\n",
    "default arguments should follow non-default arguments.\n",
    "\n",
    "For example, assume we only need a default value for a height in a\n",
    "previous example. Then a function may be defined as def\n",
    "box(length,width,height=1): or as def box(width,length,height=1): . Now,\n",
    "if we only need a default value for a length, a function can be defined\n",
    "as def box(width,height,length=1): or as def box(height,width,length=1):\n",
    ". As another example, assume we need a default values for both width and\n",
    "height. Then a function can be defined as def\n",
    "box(length,width=1,height=1): , or as def box(length,height=1,width=1):\n",
    ".\n",
    "\n",
    "Here is another example of how to use a default argument in a function.\n",
    "Assume we need to define a function to approximate a value of the Pi\n",
    "number, $$\\pi$$. Remember that, an exact value for the Pi number can be\n",
    "obtained from the math module as math.pi. One method to approximate the\n",
    "Pi number is to use the Leibniz formula for Pi (also known as a\n",
    "Gregory-Leibniz series). The Leibniz formula approximates the Pi value\n",
    "as\n",
    "$$\\frac{\\pi}{4} = {1 - \\frac{1}{3} + \\frac{1}{5} - \\frac{1}{7} + \\frac{1}{9} - \\ldots}$$\n",
    ". This series may be written as\n",
    "$$\\frac{\\pi}{4} = {\\sum\\limits_{n = 1}^{\\infty}{\\pm\\frac{1}{2{n - 1}}}}$$\n",
    ", where odd terms are positive and even terms are negative. The function\n",
    "to approximate Pi is named approx_pi. It gets a total number of terms to\n",
    "be included in the Leibniz formula as an input and returns an\n",
    "approximated Pi value by this formula. Here is how to use this formula\n",
    "to approximate the Pi number:"
   ]
  },
  {
   "cell_type": "code",
   "execution_count": null,
   "id": "b09950bf",
   "metadata": {},
   "outputs": [],
   "source": [
    "#Define a function to approximate Pi using Leibniz formula\n",
    "#n_terms: number of terms in Leibniz formula\n",
    "def approx_pi(n_terms=1000000):\n",
    "    sigma=0 #Initialize sigma\n",
    "    sign_value=1 #Define a sign value as 1 or -1\n",
    "    for n in range(1,n_terms+1,1):\n",
    "        #sigma=1-(1/3)+(1/5)-(1/7)+(1/9)-...\n",
    "        sigma=sigma+sign_value/(2*n-1)\n",
    "        sign_value=-sign_value\n",
    "\n",
    "    PI=4*sigma #PI/4=sigma\n",
    "    return PI"
   ]
  },
  {
   "cell_type": "markdown",
   "id": "0acb334f",
   "metadata": {},
   "source": [
    "Note that, range(1,n_terms+1,1) returns integers from 1 to n_terms. Here\n",
    "are examples of how to call this function in a code or an interactive\n",
    "shell:"
   ]
  },
  {
   "cell_type": "code",
   "execution_count": null,
   "id": "f277ee5b",
   "metadata": {},
   "outputs": [],
   "source": [
    "#Call a function to approximate Pi with default\n",
    "n_terms=1000000\n",
    "PI=approx_pi()\n",
    "print(PI)\n",
    "#Call a function to approximate Pi with n_terms=10000\n",
    "PI=approx_pi(10000)\n",
    "print(PI)"
   ]
  },
  {
   "cell_type": "markdown",
   "id": "fa0693ab",
   "metadata": {},
   "source": [
    "In this example, at first, a function is called to approximate a value\n",
    "of Pi by using a default number of terms as PI=approx_pi(). By default,\n",
    "this function uses 1000000 terms in the Leibniz formula for Pi\n",
    "approximation. Then, a function is called again, but this time, a number\n",
    "of terms to be included in the Leibniz formula is set to 10000 as\n",
    "PI=approx_pi(10000). Remember that a fraction of (355/113) gives a good\n",
    "approximation for the Pi, which is accurate up to 6 digits after a\n",
    "decimal point. Again, an exact value for the Pi number can be obtained\n",
    "from the math.pi.\n",
    "\n",
    "It is a common practice to include some documentation with a function.\n",
    "It provides descriptions of a function for users. Also, it helps\n",
    "developers for future references. In Python, docstrings are used for\n",
    "this purpose. Docstrings are strings (texts) that are used to document a\n",
    "function. Docstrings are placed right after a definition line of a\n",
    "function inside triple double quotes as \"\"\" docstrings \"\"\". Note that,\n",
    "in addition to functions, docstrings can be used in modules, classes,\n",
    "and methods as well.\n",
    "\n",
    "Here is an example of a function with docstrings. This function is named\n",
    "calc_rectangle. It gets a length and width of a rectangle as inputs and\n",
    "calculates its area and perimeter."
   ]
  },
  {
   "cell_type": "code",
   "execution_count": null,
   "id": "63f7cf9c",
   "metadata": {},
   "outputs": [],
   "source": [
    "def calc_rectangle(length,width):\n",
    "    \"\"\"calc_rectangle calculates an area and a perimeter of\n",
    "    rectangle.\n",
    "    Inputs: length and width of a rectangle\n",
    "    Outputs: area and perimeter of a rectangle.\n",
    "    \"\"\"\n",
    "    area=length*width #Area of a rectangle\n",
    "    perim=2*(length+width) #Perimeter of a rectangle\n",
    "    return area,perim"
   ]
  },
  {
   "cell_type": "markdown",
   "id": "224e2cbc",
   "metadata": {},
   "source": [
    "Here is an example of how to call this function in a code or an\n",
    "interactive shell:"
   ]
  },
  {
   "cell_type": "code",
   "execution_count": null,
   "id": "9706dded",
   "metadata": {},
   "outputs": [],
   "source": [
    "#Call a function for a rectangle with length=10,width=5\n",
    "#Output: area=50, perim=30\n",
    "area,perim=calc_rectangle(10,5)"
   ]
  },
  {
   "cell_type": "markdown",
   "id": "8a24c3a4",
   "metadata": {},
   "source": [
    "To access docstrings for any function, the \\_\\_doc\\_\\_ method is used.\n",
    "Note that, there are double leading and trailing underscores before and\n",
    "after doc. To access docstrings, \\_\\_doc\\_\\_ should be attached to a\n",
    "function name using a dot as function_name.\\_\\_doc\\_\\_ . Another method\n",
    "to access docstrings is to use the help function. Here are examples of\n",
    "how to access docstrings in the calc_rectangle function:"
   ]
  },
  {
   "cell_type": "code",
   "execution_count": null,
   "id": "8560db2b",
   "metadata": {},
   "outputs": [],
   "source": [
    "#Access docstrings using __doc__ method\n",
    "print(calc_rectangle.__doc__)\n",
    "#Access docstrings using help function\n",
    "help(calc_rectangle)"
   ]
  },
  {
   "cell_type": "markdown",
   "id": "95e36dbe",
   "metadata": {},
   "source": [
    "## 2.16 The \\*args and \\*\\*kwargs\n",
    "\n",
    "We can use \\*args and \\*\\*kwargs if we need to define a function with an\n",
    "arbitrary number of input arguments. In other words, if we are not sure\n",
    "how many input arguments might be passed to a function, we can use\n",
    "\\*args and \\*\\*kwargs in a function definition line. The \\*args\n",
    "represents positional arguments and \\*\\*kwargs represents keyword\n",
    "arguments. Here is a general syntax shows how to define a function with\n",
    "an arbitrary number of input arguments:"
   ]
  },
  {
   "cell_type": "code",
   "execution_count": null,
   "id": "08fa8a23",
   "metadata": {},
   "outputs": [],
   "source": [
    "def function_name(args, *args, **kwargs):\n",
    "    body of function\n",
    "    return variable1, variable2, ..."
   ]
  },
  {
   "cell_type": "markdown",
   "id": "50209993",
   "metadata": {},
   "source": [
    "In a function definition, we may have none, one, two, or more input\n",
    "arguments before \\*args and \\*\\*kwargs. Note that, it is conventional to\n",
    "write these terms as \\*args and \\*\\*kwargs, however, we may use any\n",
    "other words such as \\*var and \\*\\*keyvar. We only need to place \\* and\n",
    "\\*\\* before any word we use.\n",
    "\n",
    "Let’s explain how to use \\*args and \\*\\*kwargs in a function. First, we\n",
    "show how to use \\*args. The \\*args represents an arbitrary number of\n",
    "positional inputs. Consider we need to define a function that gets an\n",
    "arbitrary number of inputs and returns a sum of all inputs. This\n",
    "function is named input_sum."
   ]
  },
  {
   "cell_type": "code",
   "execution_count": null,
   "id": "a328686d",
   "metadata": {},
   "outputs": [],
   "source": [
    "#Define a function to calculate sum of inputs\n",
    "def input_sum(*args):\n",
    "    s=0\n",
    "    for num in args:\n",
    "    s=s+num\n",
    "    return(s)"
   ]
  },
  {
   "cell_type": "markdown",
   "id": "771de27a",
   "metadata": {},
   "source": [
    "Now, we call this function to calculate, first, a sum of 1, 2, then a\n",
    "sum of 1, 2, 3, and finally a sum of 1, 2, 3, 4. In the last example,\n",
    "first, we assign 1, 2, 3, 4 as a tuple to args, and then we use \\*args\n",
    "to unpack them when we call a function. We may also use any other names\n",
    "such as var and \\*var for this purpose.\n",
    "\n",
    "Note that, a tuple is a Python data container (data structure). There\n",
    "are more details on tuples in the following chapters."
   ]
  },
  {
   "cell_type": "code",
   "execution_count": null,
   "id": "fe0bca35",
   "metadata": {},
   "outputs": [],
   "source": [
    "#Call a function to add 1,2\n",
    "#Output: s=3\n",
    "s=input_sum(1,2)\n",
    "#Call a function to add 1,2,3\n",
    "#Output: s=6\n",
    "s=input_sum(1,2,3)\n",
    "#Call a function to add 1,2,3,4\n",
    "#Output: s=10\n",
    "args=(1,2,3,4)\n",
    "s=input_sum(*args)"
   ]
  },
  {
   "cell_type": "markdown",
   "id": "4bbf4586",
   "metadata": {},
   "source": [
    "Now, we show how to use \\*\\*kwargs. The \\*\\*kwargs represents an\n",
    "arbitrary number of keyword inputs. The keyword inputs should have a\n",
    "form of input_name = value.\n",
    "\n",
    "The \\*\\*kwargs represents keyword inputs as items of a dictionary. A\n",
    "dictionary is a Python data container (data structure) which its items\n",
    "has a form of key : value , (key , value) , or key = value. Here, key\n",
    "represents a name of a keyword input and value represents a value of a\n",
    "keyword input. To retrieve items from a dictionary, we can use the\n",
    ".item() method. There are more details on dictionaries in the following\n",
    "chapters. Note that, the \\*\\*kwargs should be in a form of key = value,\n",
    "which key is a name of a keyword argument. In other words, the\n",
    "\\*\\*kwargs should be as input_name = value.\n",
    "\n",
    "To show how to use \\*\\*kwargs, consider a function that gets an\n",
    "arbitrary number of seasons with an approximated number of days in each\n",
    "season and then print them. This function is named season_days."
   ]
  },
  {
   "cell_type": "code",
   "execution_count": null,
   "id": "714a68a1",
   "metadata": {},
   "outputs": [],
   "source": [
    "#Define a function to return season days\n",
    "def season_days(**kwargs):\n",
    "    for key,value in kwargs.items():\n",
    "    s=\"The {} has {} days.\".format(key,value)\n",
    "    print(s)"
   ]
  },
  {
   "cell_type": "markdown",
   "id": "c2563446",
   "metadata": {},
   "source": [
    "Now, we call this function to print a number of days, first, in spring,\n",
    "summer, and then in spring, summer, fall, and finally in spring, summer,\n",
    "fall, winter. In the last example, first, we assign\n",
    "'spring':93,'summer':93,'fall':90,'winter':89 as a dictionary to kwargs,\n",
    "and then we use \\*\\*kwargs to unpack them when we call a function. We\n",
    "may also use any other names such as var and \\*\\*var for this purpose."
   ]
  },
  {
   "cell_type": "code",
   "execution_count": null,
   "id": "6325c72a",
   "metadata": {},
   "outputs": [],
   "source": [
    "#Call a function to spring and summer\n",
    "#Output:\n",
    "# The spring has 93 days.\n",
    "# The summer has 93 days.\n",
    "season_days(spring=93,summer=93)\n",
    "#Call a function to spring, summer, and fall\n",
    "#Output:\n",
    "# The spring has 93 days.\n",
    "# The summer has 93 days.\n",
    "# The fall has 90 days.\n",
    "season_days(spring=93,summer=93,fall=90)\n",
    "#Call a function to spring, summer, fall, and winter\n",
    "#Output:\n",
    "# The spring has 93 days.\n",
    "# The summer has 93 days.\n",
    "# The fall has 90 days.\n",
    "# The winter has 89 days.\n",
    "kwargs={'spring':93,'summer':93,'fall':90,'winter':89}\n",
    "season_days(**kwargs)"
   ]
  },
  {
   "cell_type": "markdown",
   "id": "7bffe14a",
   "metadata": {},
   "source": [
    "## 2.17 Define Anonymous Function by Lambda Expression\n",
    "\n",
    "In a previous section, it is explained how to define a function.\n",
    "However, there are cases that we only need a small one-line function.\n",
    "These types of functions are anonymous and are defined by using the\n",
    "lambda keyword. These functions are called anonymous functions or lambda\n",
    "functions. Here is a general syntax shows how to define the lambda\n",
    "(anonymous) function:"
   ]
  },
  {
   "cell_type": "code",
   "execution_count": null,
   "id": "85594460",
   "metadata": {},
   "outputs": [],
   "source": [
    "lambda arguments : expression"
   ]
  },
  {
   "cell_type": "markdown",
   "id": "b1f4ff26",
   "metadata": {},
   "source": [
    "Here are some notes about a lambda (anonymous) function:\n",
    "\n",
    "-   It is a one-line function.\n",
    "-   It may have any number of arguments as inputs.\n",
    "-   It is restricted to have only a single expression.\n",
    "-   It executes this expression and returns results of that.\n",
    "\n",
    "Here is an example of using a lambda expression to define a lambda\n",
    "function. This function raises its argument to the power of 3."
   ]
  },
  {
   "cell_type": "code",
   "execution_count": null,
   "id": "450581ff",
   "metadata": {},
   "outputs": [],
   "source": [
    "#Lambda function to raise input to the power of 3\n",
    "cubed = lambda x : x**3"
   ]
  },
  {
   "cell_type": "markdown",
   "id": "b8d0a0ff",
   "metadata": {},
   "source": [
    "Now, to use this lambda function, we can simply pass an argument to it.\n",
    "Here is an example of how to call this lambda function in a code or an\n",
    "interactive shell:"
   ]
  },
  {
   "cell_type": "code",
   "execution_count": null,
   "id": "12030391",
   "metadata": {},
   "outputs": [],
   "source": [
    "#Call a lambda function\n",
    "#Outcome: 125\n",
    "a=cubed(5)\n",
    "print(a)"
   ]
  },
  {
   "cell_type": "markdown",
   "id": "b26da870",
   "metadata": {},
   "source": [
    "Here is another example of a lambda function. In this example, we define\n",
    "a lambda function that gets x and y as its input arguments and returns a\n",
    "distance of a point with (x,y) coordinates from an origin (0,0).\n",
    "Remember that a distance of a point (x,y) from an origin (Euclidean\n",
    "norm) is calculated as $$\\sqrt{x^{2} + y^{2}}$$."
   ]
  },
  {
   "cell_type": "code",
   "execution_count": null,
   "id": "f1923927",
   "metadata": {},
   "outputs": [],
   "source": [
    "#Lambda function to calculate distance of (x,y) from (0,0)\n",
    "import math\n",
    "d = lambda x,y : math.sqrt(x**2+y**2)"
   ]
  },
  {
   "cell_type": "markdown",
   "id": "8c8196a5",
   "metadata": {},
   "source": [
    "Here is an example of how to call this lambda function in a code or an\n",
    "interactive shell:"
   ]
  },
  {
   "cell_type": "code",
   "execution_count": null,
   "id": "fa0c3101",
   "metadata": {},
   "outputs": [],
   "source": [
    "#Call a lambda function\n",
    "#Outcome: 5\n",
    "a=d(3,4)\n",
    "print(a)"
   ]
  },
  {
   "cell_type": "markdown",
   "id": "9627b21b",
   "metadata": {},
   "source": [
    "A lambda function may be used as an output of a regular function. In\n",
    "other words, we can define a function that returns a lambda function as\n",
    "its output. By doing that, an output of this function becomes a function\n",
    "itself. Here is an example of how to use a lambda function inside\n",
    "another function. Assume we want to define a function that raises any\n",
    "number to a given power. Here is how to define this function. This\n",
    "function is named power_n. It gets a power value n as an input and\n",
    "returns a lambda function that raises its input argument to the power of\n",
    "n."
   ]
  },
  {
   "cell_type": "code",
   "execution_count": null,
   "id": "66208ac0",
   "metadata": {},
   "outputs": [],
   "source": [
    "#Lambda function to raise input to the power of n\n",
    "def power_n(n):\n",
    "    return lambda x : x**n"
   ]
  },
  {
   "cell_type": "markdown",
   "id": "f6a77a88",
   "metadata": {},
   "source": [
    "Now, assume we want a function to raise its input to the power of 3.\n",
    "Here is how to call this lambda function to do that in a code or an\n",
    "interactive shell. The f function raises its input to the power 3."
   ]
  },
  {
   "cell_type": "code",
   "execution_count": null,
   "id": "168bcf36",
   "metadata": {},
   "outputs": [],
   "source": [
    "#Call a lambda function\n",
    "#Outcome: 1000\n",
    "f=power_n(3) #Raise to the power 3\n",
    "a=f(10)\n",
    "print(a)"
   ]
  },
  {
   "cell_type": "markdown",
   "id": "691f3d15",
   "metadata": {},
   "source": [
    "As another example, assume we want a function to raise its input to the\n",
    "power of 8. Here is how to call this lambda function to do that in a\n",
    "code or an interactive shell. The g function raises its input to the\n",
    "power 8."
   ]
  },
  {
   "cell_type": "code",
   "execution_count": null,
   "id": "e0590bbd",
   "metadata": {},
   "outputs": [],
   "source": [
    "#Call a lambda function\n",
    "#Outcome: 256\n",
    "g=power_n(8) #Raise to the power 8\n",
    "a=g(2)\n",
    "print(a)"
   ]
  },
  {
   "cell_type": "markdown",
   "id": "0c2cad25",
   "metadata": {},
   "source": [
    "## 2.18 Underscore ( \\_ )\n",
    "\n",
    "In Python, an underscore character, \\_ , can be used for different\n",
    "applications. One widely-used application for an underscore is to\n",
    "generate snake case names (snake_case). The snake case is a naming\n",
    "convention, in which, a compound name is created from words that are\n",
    "separated with an underscore, \\_, such as best_age. Remember that it is\n",
    "not allowed to use a space between words of a compound name in Python.\n",
    "\n",
    "Another application for an underscore is to use it in Python\n",
    "interpreter. When an underscore, \\_, is used in Python interpreter, it\n",
    "stores and returns a value of the last expression. Here is an example of\n",
    "using an underscore in Python interpreter. In this example, a\n",
    "mathematical expression of 10\\*500 is entered in Python interpreter.\n",
    "Since this expression is not assigned to any variable, Python assigns it\n",
    "to an underscore variable. Therefore, in this example, a value of \\_\n",
    "becomes equal to 500."
   ]
  },
  {
   "cell_type": "code",
   "execution_count": null,
   "id": "8bb9b44d",
   "metadata": {},
   "outputs": [],
   "source": [
    "#Use an underscore in Python interpreter\n",
    "#Outcome: 500\n",
    "10*50\n",
    "_"
   ]
  },
  {
   "cell_type": "markdown",
   "id": "c61fd12f",
   "metadata": {},
   "source": [
    "One other application for an underscore is to use it in a code to ignore\n",
    "a variable or a value. To explain how it works, consider a function that\n",
    "calculates a surface area and volume of a sphere. This function is named\n",
    "calc_sphere. It gets a radius of a sphere as an input and returns a\n",
    "surface area and volume of that sphere. In this function, the first\n",
    "output is a surface area and the second output is a volume. Let’s\n",
    "consider a case that we are only interested in a value of a volume which\n",
    "is the second value returned by this function. Now, since we do not need\n",
    "a value of a surface area, assume we prefer to ignore it. To ignore a\n",
    "value of a surface area which is the first value returned by this\n",
    "function, we can simply replace it with an underscore. Remember, Python\n",
    "still assigns a value of this first output to an underscore. Here is an\n",
    "example that shows how to use an underscore to ignore an output of a\n",
    "function:"
   ]
  },
  {
   "cell_type": "code",
   "execution_count": null,
   "id": "8ddfd0c4",
   "metadata": {},
   "outputs": [],
   "source": [
    "#A function to calculate surface area and volume of a sphere\n",
    "def calc_sphere(radius):\n",
    "    import math\n",
    "    area=4*math.pi*radius**2 #Surface area of a sphere\n",
    "    vol=4/3*math.pi*radius**3 #Volume of a sphere\n",
    "    return area,vol"
   ]
  },
  {
   "cell_type": "markdown",
   "id": "0409dd7b",
   "metadata": {},
   "source": [
    "Now, we use an underscore to ignore an output of a function:"
   ]
  },
  {
   "cell_type": "code",
   "execution_count": null,
   "id": "54c1a52c",
   "metadata": {},
   "outputs": [],
   "source": [
    "#Ignore the first output of a function\n",
    "#Output: b=523.5987\n",
    "_,b= calc_sphere(5)"
   ]
  },
  {
   "cell_type": "markdown",
   "id": "d1ff770d",
   "metadata": {},
   "source": [
    "Here are other examples that show how to use an underscore to ignore\n",
    "values or variables:"
   ]
  },
  {
   "cell_type": "code",
   "execution_count": null,
   "id": "96b93a0d",
   "metadata": {},
   "outputs": [],
   "source": [
    "#Use an underscore to ignore a value or a variable\n",
    "#Ignore 20,30,50\n",
    "#Outcome: a=10, b=40\n",
    "a,_,_,b,_=(10,20,30,40,50)\n",
    "#Ignore 20,30,40 by using extended iterable unpacking\n",
    "#Outcome: c=10, d=50\n",
    "c,*_,d=(10,20,30,40,50)\n",
    "#Ignore an item in the for statement\n",
    "for _ in range(5):\n",
    "    print('abcd')"
   ]
  },
  {
   "cell_type": "markdown",
   "id": "4a55b622",
   "metadata": {},
   "source": [
    "Remember, Python still assigns a value to an underscore in these\n",
    "examples. For example, in a,\\_,\\_,b,\\_=(10,20,30,40,50), at first,\n",
    "Python assigns 20 to \\_, then it assigns 30 to \\_, and finally, it\n",
    "assigns 50 to \\_. Similarly, in c,\\*\\_,d=(10,20,30,40,50), Python\n",
    "assigns \\[20, 30, 40\\] to \\_.\n",
    "\n",
    "There are other applications for an underscore such as: a single leading\n",
    "underscore before a variable name ( \\_var ), single trailing underscore\n",
    "after a variable name ( var\\_ ), double leading underscores before a\n",
    "variable name ( \\_\\_var ), double leading and trailing underscores\n",
    "before and after a variable name ( \\_\\_var\\_\\_ ). For example, a single\n",
    "leading underscore before a variable name ( \\_var ) is used to declare\n",
    "that a variable, a function, a method, or a class in a module is\n",
    "private. These applications of an underscore are beyond a scope of this\n",
    "text.\n",
    "\n",
    "## 2.19 Work with File and Directory\n",
    "\n",
    "There are many instances that it is required to work with files and\n",
    "directories in a code. For that purpose, a path of a file or directory\n",
    "should be obtained or passed to Python. However, the format of a file or\n",
    "directory path depends on an operating system that is on a computer.\n",
    "Windows uses a backslash, \\\\, between folder names in a file or\n",
    "directory path. Mac and Linux use a forward-slash, /, between folder\n",
    "names in a file or directory path. Here are basic structures of paths in\n",
    "Windows, Mac and Linux systems:"
   ]
  },
  {
   "cell_type": "code",
   "execution_count": null,
   "id": "8fbb00c7",
   "metadata": {},
   "outputs": [],
   "source": [
    "File path on Windows systems:\n",
    "main_directory\\1st_folder\\2nd_folder\\file_name\n",
    "\n",
    "File path on Mac and Linux systems:\n",
    "/main_directory/1st_folder/2nd_folder/file_name"
   ]
  },
  {
   "cell_type": "markdown",
   "id": "cbd1439f",
   "metadata": {},
   "source": [
    "In Python, a file or directory path should always be defined by using a\n",
    "forward-slash, /. Using a backslash in a path to separates folder causes\n",
    "an error. Here are examples of how to use a file path in Python:"
   ]
  },
  {
   "cell_type": "code",
   "execution_count": null,
   "id": "c0204447",
   "metadata": {},
   "outputs": [],
   "source": [
    "#File path on Windows System, using a forward-slash\n",
    "file_path='C:/test_folder'\n",
    "#File path on Mac and Linux System, using a forward-slash\n",
    "file_path='/home/test_folder'"
   ]
  },
  {
   "cell_type": "markdown",
   "id": "f59e97a0",
   "metadata": {},
   "source": [
    "In addition to using a forward-slash, there are two other methods to\n",
    "define a path on Windows systems. The first method is to use double\n",
    "backslashes, \\\\\\\\, to separate folders. The second method is to use a\n",
    "raw string to define a path. Here are examples of how to use a file path\n",
    "in Python on Windows systems:"
   ]
  },
  {
   "cell_type": "code",
   "execution_count": null,
   "id": "98290ab3",
   "metadata": {},
   "outputs": [],
   "source": [
    "#File path on Windows System, using a forward-slash\n",
    "file_path='C:/test_folder'\n",
    "#File path on Windows System, using double backslashes\n",
    "file_path='C:\\\\test_folder'\n",
    "#File path on Windows System, using a raw string\n",
    "file_path=r'C:\\test_folder'"
   ]
  },
  {
   "cell_type": "markdown",
   "id": "a65fb10a",
   "metadata": {},
   "source": [
    "In Python, the os module provides access to functionalities that are\n",
    "related to an operating system. To get a current working directory,\n",
    "os.getcwd() can be used. Here is an example of how to get a current\n",
    "working directory:"
   ]
  },
  {
   "cell_type": "code",
   "execution_count": null,
   "id": "a2ebbc69",
   "metadata": {},
   "outputs": [],
   "source": [
    "#Return a current working directory\n",
    "import os\n",
    "current_folder=os.getcwd()"
   ]
  },
  {
   "cell_type": "markdown",
   "id": "9cca9fbc",
   "metadata": {},
   "source": [
    "To change a current working directory, os.chdir() can be used. Here is\n",
    "an example of how to change a current working directory:"
   ]
  },
  {
   "cell_type": "code",
   "execution_count": null,
   "id": "88091cd6",
   "metadata": {},
   "outputs": [],
   "source": [
    "#Change a current working directory\n",
    "import os\n",
    "os.chdir('C:/test_folder')"
   ]
  },
  {
   "cell_type": "markdown",
   "id": "b0c97069-6e6a-4f5f-9a9a-2eaa9f196da1",
   "metadata": {},
   "source": [
    "Also, the os.path provides useful functions to work with file and\n",
    "directory paths. The sys.path allows to view or change Python search\n",
    "path."
   ]
  }
 ],
 "metadata": {
  "kernelspec": {
   "display_name": "Python 3 (ipykernel)",
   "language": "python",
   "name": "python3"
  },
  "language_info": {
   "codemirror_mode": {
    "name": "ipython",
    "version": 3
   },
   "file_extension": ".py",
   "mimetype": "text/x-python",
   "name": "python",
   "nbconvert_exporter": "python",
   "pygments_lexer": "ipython3",
   "version": "3.9.5"
  }
 },
 "nbformat": 4,
 "nbformat_minor": 5
}
